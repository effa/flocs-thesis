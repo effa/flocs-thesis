{
 "cells": [
  {
   "cell_type": "markdown",
   "metadata": {},
   "source": [
    "# Evaluation of the System Behavior"
   ]
  },
  {
   "cell_type": "code",
   "execution_count": 1,
   "metadata": {},
   "outputs": [],
   "source": [
    "# Settings and imports.\n",
    "%matplotlib inline\n",
    "from collections import OrderedDict\n",
    "import numpy as np\n",
    "import matplotlib.pyplot as plt\n",
    "import pandas as pd\n",
    "from pandas.plotting import parallel_coordinates\n",
    "import seaborn as sns\n",
    "import data\n",
    "\n",
    "sns.set()\n",
    "sns.set_context('poster')\n",
    "#sns.set_style('whitegrid')\n",
    "pd.options.display.float_format = '{:.2f}'.format"
   ]
  },
  {
   "cell_type": "markdown",
   "metadata": {},
   "source": [
    "## Prepare Data"
   ]
  },
  {
   "cell_type": "code",
   "execution_count": 102,
   "metadata": {},
   "outputs": [
    {
     "data": {
      "text/html": [
       "<div>\n",
       "<style scoped>\n",
       "    .dataframe tbody tr th:only-of-type {\n",
       "        vertical-align: middle;\n",
       "    }\n",
       "\n",
       "    .dataframe tbody tr th {\n",
       "        vertical-align: top;\n",
       "    }\n",
       "\n",
       "    .dataframe thead th {\n",
       "        text-align: right;\n",
       "    }\n",
       "</style>\n",
       "<table border=\"1\" class=\"dataframe\">\n",
       "  <thead>\n",
       "    <tr style=\"text-align: right;\">\n",
       "      <th></th>\n",
       "      <th>student</th>\n",
       "      <th>task</th>\n",
       "      <th>solved</th>\n",
       "      <th>start</th>\n",
       "      <th>end</th>\n",
       "      <th>time_spent</th>\n",
       "      <th>date</th>\n",
       "      <th>order</th>\n",
       "      <th>total_time</th>\n",
       "      <th>level</th>\n",
       "    </tr>\n",
       "    <tr>\n",
       "      <th>id</th>\n",
       "      <th></th>\n",
       "      <th></th>\n",
       "      <th></th>\n",
       "      <th></th>\n",
       "      <th></th>\n",
       "      <th></th>\n",
       "      <th></th>\n",
       "      <th></th>\n",
       "      <th></th>\n",
       "      <th></th>\n",
       "    </tr>\n",
       "  </thead>\n",
       "  <tbody>\n",
       "    <tr>\n",
       "      <th>39</th>\n",
       "      <td>917</td>\n",
       "      <td>26</td>\n",
       "      <td>False</td>\n",
       "      <td>2017-11-13T10:58:19.666306Z</td>\n",
       "      <td>2017-11-13T10:59:21.969801Z</td>\n",
       "      <td>62</td>\n",
       "      <td>2017-11-13</td>\n",
       "      <td>1</td>\n",
       "      <td>62</td>\n",
       "      <td>1</td>\n",
       "    </tr>\n",
       "    <tr>\n",
       "      <th>28</th>\n",
       "      <td>584</td>\n",
       "      <td>41</td>\n",
       "      <td>True</td>\n",
       "      <td>2017-11-12T08:57:39.741460Z</td>\n",
       "      <td>2017-11-12T08:58:43.087657Z</td>\n",
       "      <td>63</td>\n",
       "      <td>2017-11-12</td>\n",
       "      <td>1</td>\n",
       "      <td>63</td>\n",
       "      <td>4</td>\n",
       "    </tr>\n",
       "    <tr>\n",
       "      <th>13</th>\n",
       "      <td>29</td>\n",
       "      <td>8</td>\n",
       "      <td>True</td>\n",
       "      <td>2017-11-10T12:24:07.602156Z</td>\n",
       "      <td>2017-11-10T12:24:24.986604Z</td>\n",
       "      <td>17</td>\n",
       "      <td>2017-11-10</td>\n",
       "      <td>1</td>\n",
       "      <td>17</td>\n",
       "      <td>2</td>\n",
       "    </tr>\n",
       "    <tr>\n",
       "      <th>1</th>\n",
       "      <td>5</td>\n",
       "      <td>25</td>\n",
       "      <td>True</td>\n",
       "      <td>2017-11-10T10:25:08.451949Z</td>\n",
       "      <td>2017-11-10T10:25:22.612931Z</td>\n",
       "      <td>14</td>\n",
       "      <td>2017-11-10</td>\n",
       "      <td>1</td>\n",
       "      <td>14</td>\n",
       "      <td>1</td>\n",
       "    </tr>\n",
       "    <tr>\n",
       "      <th>2</th>\n",
       "      <td>29</td>\n",
       "      <td>25</td>\n",
       "      <td>True</td>\n",
       "      <td>2017-11-10T12:19:38.296521Z</td>\n",
       "      <td>2017-11-10T12:19:50.945672Z</td>\n",
       "      <td>12</td>\n",
       "      <td>2017-11-10</td>\n",
       "      <td>2</td>\n",
       "      <td>29</td>\n",
       "      <td>1</td>\n",
       "    </tr>\n",
       "  </tbody>\n",
       "</table>\n",
       "</div>"
      ],
      "text/plain": [
       "    student  task  solved                        start  \\\n",
       "id                                                       \n",
       "39      917    26   False  2017-11-13T10:58:19.666306Z   \n",
       "28      584    41    True  2017-11-12T08:57:39.741460Z   \n",
       "13       29     8    True  2017-11-10T12:24:07.602156Z   \n",
       "1         5    25    True  2017-11-10T10:25:08.451949Z   \n",
       "2        29    25    True  2017-11-10T12:19:38.296521Z   \n",
       "\n",
       "                            end  time_spent        date  order  total_time  \\\n",
       "id                                                                           \n",
       "39  2017-11-13T10:59:21.969801Z          62  2017-11-13      1          62   \n",
       "28  2017-11-12T08:58:43.087657Z          63  2017-11-12      1          63   \n",
       "13  2017-11-10T12:24:24.986604Z          17  2017-11-10      1          17   \n",
       "1   2017-11-10T10:25:22.612931Z          14  2017-11-10      1          14   \n",
       "2   2017-11-10T12:19:50.945672Z          12  2017-11-10      2          29   \n",
       "\n",
       "    level  \n",
       "id         \n",
       "39      1  \n",
       "28      4  \n",
       "13      2  \n",
       "1       1  \n",
       "2       1  "
      ]
     },
     "execution_count": 102,
     "metadata": {},
     "output_type": "execute_result"
    }
   ],
   "source": [
    "tasks = data.load('robomission-2018-03-10/tasks.csv')\n",
    "levels = data.load('robomission-2018-03-10/levels.csv')\n",
    "tasks = tasks.assign(level=tasks.level.apply(\n",
    "    lambda name: levels[levels.name==name].level.values[0]))\n",
    "\n",
    "ts = data.load('robomission-2018-03-10/task_sessions.csv')\n",
    "ts = ts[ts.time_spent > 0]\n",
    "ts = ts.assign(date=ts.end.str[:10])\n",
    "ts.time_spent = ts.time_spent.clip_upper(60 * 60)\n",
    "# Count the order of the task session per student:\n",
    "ts = ts.assign(order=ts.groupby('student').cumcount() + 1)\n",
    "# Add cumulative time for each student:\n",
    "ts = ts.assign(total_time=ts.groupby('student').time_spent.cumsum())\n",
    "# Add level info\n",
    "ts = ts.join(tasks.level, on='task')\n",
    "ts.head()"
   ]
  },
  {
   "cell_type": "markdown",
   "metadata": {},
   "source": [
    "## Are students able to solve all tasks in the system in a reasonable time?\n",
    "\n",
    "TODO: abstraction over the threshold"
   ]
  },
  {
   "cell_type": "code",
   "execution_count": 105,
   "metadata": {},
   "outputs": [
    {
     "data": {
      "text/plain": [
       "0.8630026086174327"
      ]
     },
     "execution_count": 105,
     "metadata": {},
     "output_type": "execute_result"
    }
   ],
   "source": [
    "sum(ts.solved) / len(ts)"
   ]
  },
  {
   "cell_type": "code",
   "execution_count": 106,
   "metadata": {},
   "outputs": [
    {
     "data": {
      "text/plain": [
       "0.8379958621930377"
      ]
     },
     "execution_count": 106,
     "metadata": {},
     "output_type": "execute_result"
    }
   ],
   "source": [
    "reasonable_time = 15 * 60\n",
    "sum((ts.time_spent <= reasonable_time) & ts.solved) / len(ts)"
   ]
  },
  {
   "cell_type": "markdown",
   "metadata": {},
   "source": [
    "Result: 86 % are solved, 84 % are solved in 15 minutes."
   ]
  },
  {
   "cell_type": "markdown",
   "metadata": {},
   "source": [
    "## Are students able to solve their first 5 tasks quickly (each in 2 minutes)?\n",
    "\n",
    "TODO: abstraction over both thresholds"
   ]
  },
  {
   "cell_type": "code",
   "execution_count": 107,
   "metadata": {},
   "outputs": [],
   "source": [
    "# Filter the first 5 task sessions\n",
    "fts = ts[ts.order <= 5]"
   ]
  },
  {
   "cell_type": "code",
   "execution_count": 108,
   "metadata": {},
   "outputs": [
    {
     "data": {
      "text/plain": [
       "0.8660103910308996"
      ]
     },
     "execution_count": 108,
     "metadata": {},
     "output_type": "execute_result"
    }
   ],
   "source": [
    "sum(fts.solved) / len(fts)"
   ]
  },
  {
   "cell_type": "code",
   "execution_count": 109,
   "metadata": {},
   "outputs": [
    {
     "data": {
      "text/plain": [
       "0.8460486737763194"
      ]
     },
     "execution_count": 109,
     "metadata": {},
     "output_type": "execute_result"
    }
   ],
   "source": [
    "sum((fts.time_spent <= reasonable_time) & fts.solved) / len(fts)"
   ]
  },
  {
   "cell_type": "code",
   "execution_count": 110,
   "metadata": {},
   "outputs": [
    {
     "data": {
      "text/plain": [
       "0.6579163248564397"
      ]
     },
     "execution_count": 110,
     "metadata": {},
     "output_type": "execute_result"
    }
   ],
   "source": [
    "quick_time = 2 * 60\n",
    "sum((fts.time_spent <= quick_time) & fts.solved) / len(fts)"
   ]
  },
  {
   "cell_type": "markdown",
   "metadata": {},
   "source": [
    "Result: Within the first 5 tasks for each student, 87 % are solved, 85 % in 15 minutes, but only 66 % in 2 minutes."
   ]
  },
  {
   "cell_type": "markdown",
   "metadata": {},
   "source": [
    "## Do students progress to the second level in at most 10 minutes?\n",
    "\n",
    "ISSUE:\n",
    "- We have not collected info about recommendations, so we can't sepparate recommended and self-selected task. (-> Added to next implementation steps.)"
   ]
  },
  {
   "cell_type": "code",
   "execution_count": 223,
   "metadata": {},
   "outputs": [],
   "source": [
    "ts = ts.assign(total_mins=(5 * (ts.total_time//(5*60))).clip_upper(60))\n",
    "ts = ts.assign(max_level=ts.groupby('student')['level'].cummax())\n",
    "n_students = ts.student.nunique()"
   ]
  },
  {
   "cell_type": "code",
   "execution_count": 215,
   "metadata": {},
   "outputs": [
    {
     "data": {
      "text/plain": [
       "0.7324723247232472"
      ]
     },
     "execution_count": 215,
     "metadata": {},
     "output_type": "execute_result"
    }
   ],
   "source": [
    "def prop_students_at_level_after_time(level_threshold, time_threshold):\n",
    "    remaining = set(\n",
    "        ts[ts.total_time >= time_threshold].student.values)\n",
    "    good = remaining & set(\n",
    "        ts[(ts.total_time <= time_threshold)\n",
    "        & (ts.max_level >= level_threshold)].student.values)\n",
    "    return len(good) / len(remaining)\n",
    "\n",
    "prop_students_at_level_after_time(\n",
    "    level_threshold=2,\n",
    "    time_threshold=10 * 60)"
   ]
  },
  {
   "cell_type": "markdown",
   "metadata": {},
   "source": [
    "Result: 73% of students who are still learning after 10 minutes has reached 2nd level at that time. (Artefact: the time limit includes the solving time of first task in the second level. Note: we don't require the students to solve the task.)"
   ]
  },
  {
   "cell_type": "markdown",
   "metadata": {},
   "source": [
    "**Abstracting over time.**"
   ]
  },
  {
   "cell_type": "code",
   "execution_count": 235,
   "metadata": {},
   "outputs": [
    {
     "data": {
      "image/png": "[encoded data removed]",
      "text/plain": [
       "<matplotlib.figure.Figure at 0x7f2c2eb27898>"
      ]
     },
     "metadata": {},
     "output_type": "display_data"
    }
   ],
   "source": [
    "times = pd.Series(np.linspace(0, 60, num=13))\n",
    "students_at_levels = pd.DataFrame({\n",
    "    level: times.apply(\n",
    "        lambda m: prop_students_at_level_after_time(\n",
    "        level_threshold=level, time_threshold=m*60))\n",
    "    for level in [2, 3, 6]}).set_index(times)\n",
    "students_at_levels.columns = ['L2', 'L3', 'L6']\n",
    "ax = students_at_levels.plot()\n",
    "ax.set_xlim(0, 60)\n",
    "ax.set_ylim(0, 1)\n",
    "ax.set_xlabel('minutes')\n",
    "ax.set_ylabel('students (%)')\n",
    "plt.tight_layout()\n",
    "plt.savefig('../img/students-at-levels.pdf')"
   ]
  },
  {
   "cell_type": "markdown",
   "metadata": {},
   "source": [
    "**Abstracting over time and level.**\n",
    "\n",
    "Proportion of task sessions (not students) in each level with the increasing total time:"
   ]
  },
  {
   "cell_type": "code",
   "execution_count": 224,
   "metadata": {},
   "outputs": [
    {
     "data": {
      "image/png": "[encoded data removed]",
      "text/plain": [
       "<matplotlib.figure.Figure at 0x7f2c2f4407b8>"
      ]
     },
     "metadata": {},
     "output_type": "display_data"
    }
   ],
   "source": [
    "counts = ts.groupby(['level', 'total_mins']).student.count().unstack()\n",
    "counts = counts.fillna(0)\n",
    "perc = counts.sort_index(ascending=False) / counts.sum()\n",
    "ax = sns.heatmap(perc, vmin=0, vmax=0.7, xticklabels=2, square=True,\n",
    "                 cmap='Blues')\n",
    "ax.set_xlabel('minutes')\n",
    "plt.tight_layout()\n",
    "plt.savefig('../img/task-sessions-at-levels.pdf')"
   ]
  },
  {
   "cell_type": "code",
   "execution_count": null,
   "metadata": {},
   "outputs": [],
   "source": []
  },
  {
   "cell_type": "code",
   "execution_count": null,
   "metadata": {},
   "outputs": [],
   "source": []
  },
  {
   "cell_type": "code",
   "execution_count": null,
   "metadata": {},
   "outputs": [],
   "source": []
  },
  {
   "cell_type": "code",
   "execution_count": null,
   "metadata": {},
   "outputs": [],
   "source": []
  },
  {
   "cell_type": "code",
   "execution_count": null,
   "metadata": {},
   "outputs": [],
   "source": []
  },
  {
   "cell_type": "code",
   "execution_count": null,
   "metadata": {},
   "outputs": [],
   "source": []
  },
  {
   "cell_type": "code",
   "execution_count": null,
   "metadata": {},
   "outputs": [],
   "source": []
  },
  {
   "cell_type": "code",
   "execution_count": null,
   "metadata": {},
   "outputs": [],
   "source": []
  },
  {
   "cell_type": "code",
   "execution_count": null,
   "metadata": {},
   "outputs": [],
   "source": []
  },
  {
   "cell_type": "code",
   "execution_count": null,
   "metadata": {},
   "outputs": [],
   "source": []
  },
  {
   "cell_type": "code",
   "execution_count": null,
   "metadata": {},
   "outputs": [],
   "source": []
  },
  {
   "cell_type": "code",
   "execution_count": null,
   "metadata": {},
   "outputs": [],
   "source": []
  },
  {
   "cell_type": "code",
   "execution_count": null,
   "metadata": {},
   "outputs": [],
   "source": []
  },
  {
   "cell_type": "code",
   "execution_count": null,
   "metadata": {},
   "outputs": [],
   "source": []
  }
 ],
 "metadata": {
  "kernelspec": {
   "display_name": "Python 3",
   "language": "python",
   "name": "python3"
  },
  "language_info": {
   "codemirror_mode": {
    "name": "ipython",
    "version": 3
   },
   "file_extension": ".py",
   "mimetype": "text/x-python",
   "name": "python",
   "nbconvert_exporter": "python",
   "pygments_lexer": "ipython3",
   "version": "3.6.5"
  }
 },
 "nbformat": 4,
 "nbformat_minor": 2
}
