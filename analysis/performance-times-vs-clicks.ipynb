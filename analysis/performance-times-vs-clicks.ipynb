{
 "cells": [
  {
   "cell_type": "markdown",
   "metadata": {},
   "source": [
    "# Performance Analysis\n",
    "\n",
    "Questions:\n",
    "- Is there more information in clicks than in solving times?"
   ]
  },
  {
   "cell_type": "code",
   "execution_count": 1,
   "metadata": {
    "collapsed": true
   },
   "outputs": [],
   "source": [
    "# Settings and imports.\n",
    "%matplotlib inline\n",
    "from collections import OrderedDict\n",
    "import numpy as np\n",
    "import matplotlib.pyplot as plt\n",
    "import pandas as pd\n",
    "from pandas.plotting import parallel_coordinates\n",
    "import seaborn as sns\n",
    "import data\n",
    "\n",
    "sns.set()\n",
    "pd.options.display.float_format = '{:.2f}'.format"
   ]
  },
  {
   "cell_type": "markdown",
   "metadata": {},
   "source": [
    "# Preparing Data"
   ]
  },
  {
   "cell_type": "code",
   "execution_count": 2,
   "metadata": {
    "scrolled": true
   },
   "outputs": [
    {
     "data": {
      "text/html": [
       "<div>\n",
       "<style>\n",
       "    .dataframe thead tr:only-child th {\n",
       "        text-align: right;\n",
       "    }\n",
       "\n",
       "    .dataframe thead th {\n",
       "        text-align: left;\n",
       "    }\n",
       "\n",
       "    .dataframe tbody tr th {\n",
       "        vertical-align: top;\n",
       "    }\n",
       "</style>\n",
       "<table border=\"1\" class=\"dataframe\">\n",
       "  <thead>\n",
       "    <tr style=\"text-align: right;\">\n",
       "      <th></th>\n",
       "      <th>student</th>\n",
       "      <th>task</th>\n",
       "      <th>solved</th>\n",
       "      <th>start</th>\n",
       "      <th>end</th>\n",
       "      <th>time_spent</th>\n",
       "      <th>date</th>\n",
       "    </tr>\n",
       "    <tr>\n",
       "      <th>id</th>\n",
       "      <th></th>\n",
       "      <th></th>\n",
       "      <th></th>\n",
       "      <th></th>\n",
       "      <th></th>\n",
       "      <th></th>\n",
       "      <th></th>\n",
       "    </tr>\n",
       "  </thead>\n",
       "  <tbody>\n",
       "    <tr>\n",
       "      <th>39</th>\n",
       "      <td>917</td>\n",
       "      <td>26</td>\n",
       "      <td>False</td>\n",
       "      <td>2017-11-13T10:58:19.666306Z</td>\n",
       "      <td>2017-11-13T10:59:21.969801Z</td>\n",
       "      <td>62</td>\n",
       "      <td>2017-11-13</td>\n",
       "    </tr>\n",
       "    <tr>\n",
       "      <th>28</th>\n",
       "      <td>584</td>\n",
       "      <td>41</td>\n",
       "      <td>True</td>\n",
       "      <td>2017-11-12T08:57:39.741460Z</td>\n",
       "      <td>2017-11-12T08:58:43.087657Z</td>\n",
       "      <td>63</td>\n",
       "      <td>2017-11-12</td>\n",
       "    </tr>\n",
       "  </tbody>\n",
       "</table>\n",
       "</div>"
      ],
      "text/plain": [
       "    student  task  solved                        start  \\\n",
       "id                                                       \n",
       "39      917    26   False  2017-11-13T10:58:19.666306Z   \n",
       "28      584    41    True  2017-11-12T08:57:39.741460Z   \n",
       "\n",
       "                            end  time_spent        date  \n",
       "id                                                       \n",
       "39  2017-11-13T10:59:21.969801Z          62  2017-11-13  \n",
       "28  2017-11-12T08:58:43.087657Z          63  2017-11-12  "
      ]
     },
     "execution_count": 2,
     "metadata": {},
     "output_type": "execute_result"
    }
   ],
   "source": [
    "ts = data.load('robomission-2018-03-10/task_sessions.csv')\n",
    "# Only consider sessions with an interaction.\n",
    "ts = ts[ts.time_spent > 0]\n",
    "# Set maximum spent time to 30 mins.\n",
    "ts.time_spent = ts.time_spent.clip_upper(30 * 60)\n",
    "ts = ts.assign(date=ts.end.str[:10])\n",
    "ts.head(2)"
   ]
  },
  {
   "cell_type": "code",
   "execution_count": 3,
   "metadata": {
    "collapsed": true
   },
   "outputs": [],
   "source": [
    "tasks = data.load('robomission-2018-03-10/tasks.csv')\n",
    "levels = data.load('robomission-2018-03-10/levels.csv')"
   ]
  },
  {
   "cell_type": "code",
   "execution_count": 4,
   "metadata": {},
   "outputs": [
    {
     "data": {
      "text/html": [
       "<div>\n",
       "<style>\n",
       "    .dataframe thead tr:only-child th {\n",
       "        text-align: right;\n",
       "    }\n",
       "\n",
       "    .dataframe thead th {\n",
       "        text-align: left;\n",
       "    }\n",
       "\n",
       "    .dataframe tbody tr th {\n",
       "        vertical-align: top;\n",
       "    }\n",
       "</style>\n",
       "<table border=\"1\" class=\"dataframe\">\n",
       "  <thead>\n",
       "    <tr style=\"text-align: right;\">\n",
       "      <th></th>\n",
       "      <th>task_session</th>\n",
       "      <th>time</th>\n",
       "      <th>program</th>\n",
       "      <th>granularity</th>\n",
       "      <th>order</th>\n",
       "      <th>correct</th>\n",
       "      <th>time_from_start</th>\n",
       "      <th>time_delta</th>\n",
       "    </tr>\n",
       "    <tr>\n",
       "      <th>id</th>\n",
       "      <th></th>\n",
       "      <th></th>\n",
       "      <th></th>\n",
       "      <th></th>\n",
       "      <th></th>\n",
       "      <th></th>\n",
       "      <th></th>\n",
       "      <th></th>\n",
       "    </tr>\n",
       "  </thead>\n",
       "  <tbody>\n",
       "    <tr>\n",
       "      <th>1</th>\n",
       "      <td>1</td>\n",
       "      <td>2017-11-10T10:25:16.906946Z</td>\n",
       "      <td>f</td>\n",
       "      <td>edit</td>\n",
       "      <td>1</td>\n",
       "      <td>NaN</td>\n",
       "      <td>8</td>\n",
       "      <td>8</td>\n",
       "    </tr>\n",
       "    <tr>\n",
       "      <th>2</th>\n",
       "      <td>1</td>\n",
       "      <td>2017-11-10T10:25:17.965605Z</td>\n",
       "      <td>ff</td>\n",
       "      <td>edit</td>\n",
       "      <td>2</td>\n",
       "      <td>NaN</td>\n",
       "      <td>9</td>\n",
       "      <td>1</td>\n",
       "    </tr>\n",
       "  </tbody>\n",
       "</table>\n",
       "</div>"
      ],
      "text/plain": [
       "    task_session                         time program granularity  order  \\\n",
       "id                                                                         \n",
       "1              1  2017-11-10T10:25:16.906946Z       f        edit      1   \n",
       "2              1  2017-11-10T10:25:17.965605Z      ff        edit      2   \n",
       "\n",
       "   correct  time_from_start  time_delta  \n",
       "id                                       \n",
       "1      NaN                8           8  \n",
       "2      NaN                9           1  "
      ]
     },
     "execution_count": 4,
     "metadata": {},
     "output_type": "execute_result"
    }
   ],
   "source": [
    "snapshots = data.load('robomission-2018-03-10/program_snapshots.csv')\n",
    "edits = snapshots[snapshots.granularity == 'edit']\n",
    "executions = snapshots[snapshots.granularity == 'execution']\n",
    "snapshots.head(2)"
   ]
  },
  {
   "cell_type": "markdown",
   "metadata": {},
   "source": [
    "## Time vs. Edits"
   ]
  },
  {
   "cell_type": "code",
   "execution_count": 15,
   "metadata": {},
   "outputs": [
    {
     "data": {
      "text/html": [
       "<div>\n",
       "<style>\n",
       "    .dataframe thead tr:only-child th {\n",
       "        text-align: right;\n",
       "    }\n",
       "\n",
       "    .dataframe thead th {\n",
       "        text-align: left;\n",
       "    }\n",
       "\n",
       "    .dataframe tbody tr th {\n",
       "        vertical-align: top;\n",
       "    }\n",
       "</style>\n",
       "<table border=\"1\" class=\"dataframe\">\n",
       "  <thead>\n",
       "    <tr style=\"text-align: right;\">\n",
       "      <th></th>\n",
       "      <th>student</th>\n",
       "      <th>task</th>\n",
       "      <th>solved</th>\n",
       "      <th>start</th>\n",
       "      <th>end</th>\n",
       "      <th>time_spent</th>\n",
       "      <th>date</th>\n",
       "      <th>edits</th>\n",
       "    </tr>\n",
       "    <tr>\n",
       "      <th>id</th>\n",
       "      <th></th>\n",
       "      <th></th>\n",
       "      <th></th>\n",
       "      <th></th>\n",
       "      <th></th>\n",
       "      <th></th>\n",
       "      <th></th>\n",
       "      <th></th>\n",
       "    </tr>\n",
       "  </thead>\n",
       "  <tbody>\n",
       "    <tr>\n",
       "      <th>39</th>\n",
       "      <td>917</td>\n",
       "      <td>26</td>\n",
       "      <td>False</td>\n",
       "      <td>2017-11-13T10:58:19.666306Z</td>\n",
       "      <td>2017-11-13T10:59:21.969801Z</td>\n",
       "      <td>62</td>\n",
       "      <td>2017-11-13</td>\n",
       "      <td>1.00</td>\n",
       "    </tr>\n",
       "    <tr>\n",
       "      <th>28</th>\n",
       "      <td>584</td>\n",
       "      <td>41</td>\n",
       "      <td>True</td>\n",
       "      <td>2017-11-12T08:57:39.741460Z</td>\n",
       "      <td>2017-11-12T08:58:43.087657Z</td>\n",
       "      <td>63</td>\n",
       "      <td>2017-11-12</td>\n",
       "      <td>7.00</td>\n",
       "    </tr>\n",
       "    <tr>\n",
       "      <th>13</th>\n",
       "      <td>29</td>\n",
       "      <td>8</td>\n",
       "      <td>True</td>\n",
       "      <td>2017-11-10T12:24:07.602156Z</td>\n",
       "      <td>2017-11-10T12:24:24.986604Z</td>\n",
       "      <td>17</td>\n",
       "      <td>2017-11-10</td>\n",
       "      <td>6.00</td>\n",
       "    </tr>\n",
       "    <tr>\n",
       "      <th>1</th>\n",
       "      <td>5</td>\n",
       "      <td>25</td>\n",
       "      <td>True</td>\n",
       "      <td>2017-11-10T10:25:08.451949Z</td>\n",
       "      <td>2017-11-10T10:25:22.612931Z</td>\n",
       "      <td>14</td>\n",
       "      <td>2017-11-10</td>\n",
       "      <td>4.00</td>\n",
       "    </tr>\n",
       "    <tr>\n",
       "      <th>2</th>\n",
       "      <td>29</td>\n",
       "      <td>25</td>\n",
       "      <td>True</td>\n",
       "      <td>2017-11-10T12:19:38.296521Z</td>\n",
       "      <td>2017-11-10T12:19:50.945672Z</td>\n",
       "      <td>12</td>\n",
       "      <td>2017-11-10</td>\n",
       "      <td>4.00</td>\n",
       "    </tr>\n",
       "  </tbody>\n",
       "</table>\n",
       "</div>"
      ],
      "text/plain": [
       "    student  task  solved                        start  \\\n",
       "id                                                       \n",
       "39      917    26   False  2017-11-13T10:58:19.666306Z   \n",
       "28      584    41    True  2017-11-12T08:57:39.741460Z   \n",
       "13       29     8    True  2017-11-10T12:24:07.602156Z   \n",
       "1         5    25    True  2017-11-10T10:25:08.451949Z   \n",
       "2        29    25    True  2017-11-10T12:19:38.296521Z   \n",
       "\n",
       "                            end  time_spent        date  edits  \n",
       "id                                                              \n",
       "39  2017-11-13T10:59:21.969801Z          62  2017-11-13   1.00  \n",
       "28  2017-11-12T08:58:43.087657Z          63  2017-11-12   7.00  \n",
       "13  2017-11-10T12:24:24.986604Z          17  2017-11-10   6.00  \n",
       "1   2017-11-10T10:25:22.612931Z          14  2017-11-10   4.00  \n",
       "2   2017-11-10T12:19:50.945672Z          12  2017-11-10   4.00  "
      ]
     },
     "execution_count": 15,
     "metadata": {},
     "output_type": "execute_result"
    }
   ],
   "source": [
    "ts['edits'] = edits.groupby('task_session').program.count() + 1\n",
    "ts.edits = ts.edits.fillna(1)\n",
    "ts.head()"
   ]
  },
  {
   "cell_type": "code",
   "execution_count": 16,
   "metadata": {},
   "outputs": [
    {
     "data": {
      "text/plain": [
       "<matplotlib.axes._subplots.AxesSubplot at 0x7f7415a03b70>"
      ]
     },
     "execution_count": 16,
     "metadata": {},
     "output_type": "execute_result"
    },
    {
     "data": {
      "image/png": "[encoded data removed]",
      "text/plain": [
       "<matplotlib.figure.Figure at 0x7f74159d40f0>"
      ]
     },
     "metadata": {},
     "output_type": "display_data"
    }
   ],
   "source": [
    "ts.sample(n=200).plot.scatter(\n",
    "    x='time_spent', y='edits',\n",
    "    logx=True, logy=True)"
   ]
  },
  {
   "cell_type": "markdown",
   "metadata": {},
   "source": [
    "The correlation between the log-time and log-edits is quite high:"
   ]
  },
  {
   "cell_type": "code",
   "execution_count": 19,
   "metadata": {},
   "outputs": [
    {
     "data": {
      "text/plain": [
       "0.73860599422710438"
      ]
     },
     "execution_count": 19,
     "metadata": {},
     "output_type": "execute_result"
    }
   ],
   "source": [
    "ts['log_time'] = ts.time_spent.apply(np.log)\n",
    "ts['log_edits'] = ts.edits.apply(np.log)\n",
    "ts.log_time.corr(ts.log_edits)"
   ]
  },
  {
   "cell_type": "markdown",
   "metadata": {},
   "source": [
    "Correlations within a task:"
   ]
  },
  {
   "cell_type": "code",
   "execution_count": 30,
   "metadata": {},
   "outputs": [
    {
     "data": {
      "text/plain": [
       "task\n",
       "74    0.92\n",
       "65    0.87\n",
       "32    0.83\n",
       "79    0.81\n",
       "19    0.81\n",
       "57    0.80\n",
       "43    0.79\n",
       "42    0.78\n",
       "6     0.78\n",
       "18    0.78\n",
       "20    0.77\n",
       "34    0.76\n",
       "76    0.76\n",
       "63    0.76\n",
       "73    0.76\n",
       "85    0.75\n",
       "68    0.74\n",
       "80    0.74\n",
       "4     0.73\n",
       "21    0.73\n",
       "28    0.73\n",
       "16    0.73\n",
       "77    0.73\n",
       "55    0.72\n",
       "35    0.72\n",
       "81    0.71\n",
       "40    0.71\n",
       "41    0.71\n",
       "61    0.71\n",
       "22    0.71\n",
       "      ... \n",
       "8     0.59\n",
       "27    0.58\n",
       "66    0.56\n",
       "69    0.56\n",
       "31    0.55\n",
       "30    0.54\n",
       "53    0.54\n",
       "13    0.54\n",
       "58    0.52\n",
       "52    0.51\n",
       "48    0.51\n",
       "72    0.49\n",
       "12    0.49\n",
       "84    0.48\n",
       "54    0.47\n",
       "71    0.47\n",
       "10    0.46\n",
       "9     0.44\n",
       "86    0.42\n",
       "75    0.41\n",
       "2     0.38\n",
       "39    0.37\n",
       "36    0.37\n",
       "33    0.36\n",
       "44    0.35\n",
       "49    0.33\n",
       "26    0.31\n",
       "7     0.27\n",
       "51    0.10\n",
       "25   -0.02\n",
       "Name: log_time, Length: 86, dtype: float64"
      ]
     },
     "execution_count": 30,
     "metadata": {},
     "output_type": "execute_result"
    }
   ],
   "source": [
    "corr = ts[['task', 'log_time']].groupby('task')\\\n",
    "    .corrwith(ts.log_edits).log_time\n",
    "corr.sort_values(ascending=False)"
   ]
  },
  {
   "cell_type": "markdown",
   "metadata": {},
   "source": [
    "Example of task with high correlation:"
   ]
  },
  {
   "cell_type": "code",
   "execution_count": 35,
   "metadata": {},
   "outputs": [
    {
     "data": {
      "text/plain": [
       "<matplotlib.axes._subplots.AxesSubplot at 0x7f740a16b3c8>"
      ]
     },
     "execution_count": 35,
     "metadata": {},
     "output_type": "execute_result"
    },
    {
     "data": {
      "image/png": "[encoded data removed]",
      "text/plain": [
       "<matplotlib.figure.Figure at 0x7f740a1c82e8>"
      ]
     },
     "metadata": {},
     "output_type": "display_data"
    }
   ],
   "source": [
    "ts[ts.task == 65].plot.scatter(\n",
    "    x='time_spent', y='edits',\n",
    "    logx=True, logy=True)"
   ]
  },
  {
   "cell_type": "markdown",
   "metadata": {},
   "source": [
    "Task with the lowest correlation (~ 0):"
   ]
  },
  {
   "cell_type": "code",
   "execution_count": 41,
   "metadata": {},
   "outputs": [
    {
     "data": {
      "text/plain": [
       "<matplotlib.axes._subplots.AxesSubplot at 0x7f7409dda940>"
      ]
     },
     "execution_count": 41,
     "metadata": {},
     "output_type": "execute_result"
    },
    {
     "data": {
      "image/png": "[encoded data removed]",
      "text/plain": [
       "<matplotlib.figure.Figure at 0x7f7409d80c18>"
      ]
     },
     "metadata": {},
     "output_type": "display_data"
    }
   ],
   "source": [
    "ts[ts.task == 25].plot.scatter(\n",
    "    x='time_spent', y='edits',\n",
    "    logx=True, logy=True)"
   ]
  },
  {
   "cell_type": "markdown",
   "metadata": {},
   "source": [
    "Q: How the correlation relates to the (1) amount of collected data, (2) difficulty of the task?"
   ]
  },
  {
   "cell_type": "code",
   "execution_count": 81,
   "metadata": {},
   "outputs": [
    {
     "data": {
      "text/plain": [
       "<matplotlib.axes._subplots.AxesSubplot at 0x7f7401ed5dd8>"
      ]
     },
     "execution_count": 81,
     "metadata": {},
     "output_type": "execute_result"
    },
    {
     "data": {
      "image/png": "[encoded data removed]",
      "text/plain": [
       "<matplotlib.figure.Figure at 0x7f740852ae48>"
      ]
     },
     "metadata": {},
     "output_type": "display_data"
    }
   ],
   "source": [
    "gts = ts.groupby('task')\n",
    "df = pd.DataFrame(OrderedDict(\n",
    "    log_time=gts.log_time.mean(),\n",
    "    n_attempts=gts.log_time.count()\n",
    "))\n",
    "#df = tasks.merge(metrics, left_index=True, right_index=True)\n",
    "#df = df[['log_time', 'n_attmpt']]\n",
    "df['pearson'] = corr\n",
    "df = df.reset_index('task').sort_values('pearson')\n",
    "df.head()\n",
    "sns.barplot(x='task', y='pearson', data=df, color=\"salmon\", order=df.task)"
   ]
  },
  {
   "cell_type": "code",
   "execution_count": 83,
   "metadata": {},
   "outputs": [
    {
     "data": {
      "text/plain": [
       "<matplotlib.axes._subplots.AxesSubplot at 0x7f74019bb470>"
      ]
     },
     "execution_count": 83,
     "metadata": {},
     "output_type": "execute_result"
    },
    {
     "data": {
      "image/png": "[encoded data removed]",
      "text/plain": [
       "<matplotlib.figure.Figure at 0x7f7401b5d828>"
      ]
     },
     "metadata": {},
     "output_type": "display_data"
    }
   ],
   "source": [
    "# Sorted by difficulty\n",
    "df = df.sort_values('log_time')\n",
    "sns.barplot(x='task', y='pearson', data=df, color=\"salmon\", order=df.task)"
   ]
  },
  {
   "cell_type": "code",
   "execution_count": 84,
   "metadata": {},
   "outputs": [
    {
     "data": {
      "text/plain": [
       "<matplotlib.axes._subplots.AxesSubplot at 0x7f740168fef0>"
      ]
     },
     "execution_count": 84,
     "metadata": {},
     "output_type": "execute_result"
    },
    {
     "data": {
      "image/png": "[encoded data removed]",
      "text/plain": [
       "<matplotlib.figure.Figure at 0x7f74016e8b00>"
      ]
     },
     "metadata": {},
     "output_type": "display_data"
    }
   ],
   "source": [
    "# Sorted by number of collected attempts\n",
    "df = df.sort_values('n_attempts')\n",
    "sns.barplot(x='task', y='pearson', data=df, color=\"salmon\", order=df.task)"
   ]
  },
  {
   "cell_type": "code",
   "execution_count": null,
   "metadata": {
    "collapsed": true
   },
   "outputs": [],
   "source": []
  },
  {
   "cell_type": "code",
   "execution_count": null,
   "metadata": {
    "collapsed": true
   },
   "outputs": [],
   "source": []
  },
  {
   "cell_type": "code",
   "execution_count": null,
   "metadata": {
    "collapsed": true
   },
   "outputs": [],
   "source": []
  },
  {
   "cell_type": "code",
   "execution_count": null,
   "metadata": {
    "collapsed": true
   },
   "outputs": [],
   "source": []
  }
 ],
 "metadata": {
  "kernelspec": {
   "display_name": "Python 3",
   "language": "python",
   "name": "python3"
  },
  "language_info": {
   "codemirror_mode": {
    "name": "ipython",
    "version": 3
   },
   "file_extension": ".py",
   "mimetype": "text/x-python",
   "name": "python",
   "nbconvert_exporter": "python",
   "pygments_lexer": "ipython3",
   "version": "3.6.3"
  }
 },
 "nbformat": 4,
 "nbformat_minor": 2
}
