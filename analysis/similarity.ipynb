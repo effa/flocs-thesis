{
 "cells": [
  {
   "cell_type": "markdown",
   "metadata": {},
   "source": [
    "# Similarity\n",
    "\n",
    "Illustration of computing similarities between tasks/concepts."
   ]
  },
  {
   "cell_type": "code",
   "execution_count": 1,
   "metadata": {
    "collapsed": true
   },
   "outputs": [],
   "source": [
    "# Settings and imports.\n",
    "%matplotlib inline\n",
    "from collections import Counter, OrderedDict, defaultdict\n",
    "from functools import partial\n",
    "from itertools import product, combinations\n",
    "import json\n",
    "import networkx as nx\n",
    "import numpy as np\n",
    "import matplotlib.pyplot as plt\n",
    "import pandas as pd\n",
    "import seaborn as sns\n",
    "from scipy.spatial.distance import pdist, squareform\n",
    "import data\n",
    "\n",
    "sns.set()\n",
    "sns.set_context('paper', font_scale=2.0)\n",
    "pd.options.display.float_format = '{:.2f}'.format"
   ]
  },
  {
   "cell_type": "code",
   "execution_count": 2,
   "metadata": {
    "collapsed": true
   },
   "outputs": [],
   "source": [
    "# Data\n",
    "tasks = data.load('robomission-2018-02-10/tasks.csv')\n",
    "ts = data.load('robomission-2018-02-10/task_sessions.csv')\n",
    "ts = ts[ts.time_spent > 0]\n",
    "ts = ts.assign(date=ts.end.str[:10])"
   ]
  },
  {
   "cell_type": "markdown",
   "metadata": {},
   "source": [
    "## Features"
   ]
  },
  {
   "cell_type": "code",
   "execution_count": 3,
   "metadata": {},
   "outputs": [
    {
     "data": {
      "text/html": [
       "<div>\n",
       "<style scoped>\n",
       "    .dataframe tbody tr th:only-of-type {\n",
       "        vertical-align: middle;\n",
       "    }\n",
       "\n",
       "    .dataframe tbody tr th {\n",
       "        vertical-align: top;\n",
       "    }\n",
       "\n",
       "    .dataframe thead th {\n",
       "        text-align: right;\n",
       "    }\n",
       "</style>\n",
       "<table border=\"1\" class=\"dataframe\">\n",
       "  <thead>\n",
       "    <tr style=\"text-align: right;\">\n",
       "      <th></th>\n",
       "      <th>A</th>\n",
       "      <th>M</th>\n",
       "      <th>D</th>\n",
       "      <th>W</th>\n",
       "      <th>Y</th>\n",
       "      <th>limit</th>\n",
       "      <th>energy</th>\n",
       "      <th>shoot</th>\n",
       "      <th>repeat</th>\n",
       "      <th>while</th>\n",
       "      <th>if</th>\n",
       "      <th>else</th>\n",
       "      <th>col</th>\n",
       "      <th>pos</th>\n",
       "      <th>nest</th>\n",
       "    </tr>\n",
       "  </thead>\n",
       "  <tbody>\n",
       "    <tr>\n",
       "      <th>0</th>\n",
       "      <td>0</td>\n",
       "      <td>0</td>\n",
       "      <td>8</td>\n",
       "      <td>2</td>\n",
       "      <td>2</td>\n",
       "      <td>1</td>\n",
       "      <td>0</td>\n",
       "      <td>0</td>\n",
       "      <td>2</td>\n",
       "      <td>0</td>\n",
       "      <td>1</td>\n",
       "      <td>1</td>\n",
       "      <td>1</td>\n",
       "      <td>0</td>\n",
       "      <td>3</td>\n",
       "    </tr>\n",
       "    <tr>\n",
       "      <th>1</th>\n",
       "      <td>14</td>\n",
       "      <td>0</td>\n",
       "      <td>3</td>\n",
       "      <td>0</td>\n",
       "      <td>1</td>\n",
       "      <td>1</td>\n",
       "      <td>0</td>\n",
       "      <td>0</td>\n",
       "      <td>0</td>\n",
       "      <td>1</td>\n",
       "      <td>1</td>\n",
       "      <td>0</td>\n",
       "      <td>2</td>\n",
       "      <td>0</td>\n",
       "      <td>2</td>\n",
       "    </tr>\n",
       "    <tr>\n",
       "      <th>2</th>\n",
       "      <td>5</td>\n",
       "      <td>6</td>\n",
       "      <td>0</td>\n",
       "      <td>0</td>\n",
       "      <td>0</td>\n",
       "      <td>0</td>\n",
       "      <td>0</td>\n",
       "      <td>0</td>\n",
       "      <td>0</td>\n",
       "      <td>0</td>\n",
       "      <td>0</td>\n",
       "      <td>0</td>\n",
       "      <td>0</td>\n",
       "      <td>0</td>\n",
       "      <td>0</td>\n",
       "    </tr>\n",
       "    <tr>\n",
       "      <th>3</th>\n",
       "      <td>18</td>\n",
       "      <td>0</td>\n",
       "      <td>0</td>\n",
       "      <td>0</td>\n",
       "      <td>0</td>\n",
       "      <td>1</td>\n",
       "      <td>0</td>\n",
       "      <td>0</td>\n",
       "      <td>0</td>\n",
       "      <td>1</td>\n",
       "      <td>0</td>\n",
       "      <td>0</td>\n",
       "      <td>1</td>\n",
       "      <td>0</td>\n",
       "      <td>1</td>\n",
       "    </tr>\n",
       "    <tr>\n",
       "      <th>4</th>\n",
       "      <td>12</td>\n",
       "      <td>3</td>\n",
       "      <td>2</td>\n",
       "      <td>0</td>\n",
       "      <td>0</td>\n",
       "      <td>0</td>\n",
       "      <td>0</td>\n",
       "      <td>3</td>\n",
       "      <td>0</td>\n",
       "      <td>0</td>\n",
       "      <td>0</td>\n",
       "      <td>0</td>\n",
       "      <td>0</td>\n",
       "      <td>0</td>\n",
       "      <td>0</td>\n",
       "    </tr>\n",
       "  </tbody>\n",
       "</table>\n",
       "</div>"
      ],
      "text/plain": [
       "    A  M  D  W  Y  limit  energy  shoot  repeat  while  if  else  col  pos  \\\n",
       "0   0  0  8  2  2      1       0      0       2      0   1     1    1    0   \n",
       "1  14  0  3  0  1      1       0      0       0      1   1     0    2    0   \n",
       "2   5  6  0  0  0      0       0      0       0      0   0     0    0    0   \n",
       "3  18  0  0  0  0      1       0      0       0      1   0     0    1    0   \n",
       "4  12  3  2  0  0      0       0      3       0      0   0     0    0    0   \n",
       "\n",
       "   nest  \n",
       "0     3  \n",
       "1     2  \n",
       "2     0  \n",
       "3     1  \n",
       "4     0  "
      ]
     },
     "execution_count": 3,
     "metadata": {},
     "output_type": "execute_result"
    }
   ],
   "source": [
    "def get_token_counts(solution):\n",
    "    # caveat: 'r' can be either 'right' or 'red' depending on the context\n",
    "    nesting = 0\n",
    "    test = False\n",
    "    counts = defaultdict(int)\n",
    "    counts = OrderedDict([\n",
    "        (token, 0)\n",
    "        for token in ['shoot', 'repeat', 'while', 'if', 'else',\n",
    "                      'col', 'pos', 'nest']\n",
    "    ])\n",
    "    for token in solution:\n",
    "        if token == '{':\n",
    "            nesting += 1\n",
    "            counts['nest'] = max(nesting, counts['nest'])\n",
    "            test = False\n",
    "            continue\n",
    "        if token == '}':\n",
    "            nesting -= 1\n",
    "            continue\n",
    "        if token == 'W':\n",
    "            counts['while'] += 1\n",
    "        if token == 'I':\n",
    "            counts['if'] += 1\n",
    "        if token == 'R':\n",
    "            counts['repeat'] += 1\n",
    "        if token == 's':\n",
    "            counts['shoot'] += 1\n",
    "        if token == '/':\n",
    "            counts['else'] += 1\n",
    "        if test and token in 'yrgbk':\n",
    "            counts['col'] += 1\n",
    "        if test and token == 'x':\n",
    "            counts['pos'] += 1\n",
    "        if token in 'WI':\n",
    "            test = True\n",
    "    return counts\n",
    "            \n",
    "\n",
    "def canonize(letters):\n",
    "    # canonize wormhole names\n",
    "    letters = ['W' if letter in 'XYZ' else letter for letter in letters]\n",
    "    return letters\n",
    "\n",
    "\n",
    "def get_letter_counts(statement):\n",
    "    letters = Counter()\n",
    "    fields = statement['fields']\n",
    "    for row in fields:\n",
    "        for _background, objects in row:\n",
    "            letters.update(canonize(objects))\n",
    "    return letters\n",
    "\n",
    "\n",
    "def get_special_color_count(statement):\n",
    "    fields = statement['fields']\n",
    "    colors = set()\n",
    "    for row in fields:\n",
    "        for background, _objects in row:\n",
    "            colors.add(background)\n",
    "    return len(colors) - 2  # don't count black and blue\n",
    "\n",
    "\n",
    "def get_features(task):\n",
    "    statement = json.loads(task.setting)\n",
    "    solution = task.solution\n",
    "    #print(statement, '\\n*\\n', solution)\n",
    "    # statement features\n",
    "    letter_counts = get_letter_counts(statement)\n",
    "    features = OrderedDict([\n",
    "        (letter, letter_counts[letter])\n",
    "        for letter in 'AMDW'\n",
    "    ])\n",
    "    features['Y'] = get_special_color_count(statement)\n",
    "    features['limit'] = int('length' in statement)\n",
    "    features['energy'] = int('energy' in statement)\n",
    "    # solution features\n",
    "    token_counts = get_token_counts(solution)\n",
    "    features.update(token_counts)\n",
    "    return features\n",
    "\n",
    "RAW_FEATURES = pd.DataFrame.from_records([\n",
    "    get_features(task) for task in tasks.itertuples()])\n",
    "STATEMENT_FEATURES = ['A', 'M', 'D', 'W', 'Y', 'limit', 'energy']\n",
    "SOLUTION_FEATURES = ['shoot', 'repeat', 'while', 'if', 'else', 'col', 'pos', 'nest']\n",
    "RAW_FEATURES.head()"
   ]
  },
  {
   "cell_type": "code",
   "execution_count": 7,
   "metadata": {},
   "outputs": [
    {
     "data": {
      "text/html": [
       "<div>\n",
       "<style scoped>\n",
       "    .dataframe tbody tr th:only-of-type {\n",
       "        vertical-align: middle;\n",
       "    }\n",
       "\n",
       "    .dataframe tbody tr th {\n",
       "        vertical-align: top;\n",
       "    }\n",
       "\n",
       "    .dataframe thead th {\n",
       "        text-align: right;\n",
       "    }\n",
       "</style>\n",
       "<table border=\"1\" class=\"dataframe\">\n",
       "  <thead>\n",
       "    <tr style=\"text-align: right;\">\n",
       "      <th></th>\n",
       "      <th>A</th>\n",
       "      <th>M</th>\n",
       "      <th>D</th>\n",
       "      <th>W</th>\n",
       "      <th>Y</th>\n",
       "      <th>limit</th>\n",
       "      <th>energy</th>\n",
       "      <th>shoot</th>\n",
       "      <th>repeat</th>\n",
       "      <th>while</th>\n",
       "      <th>if</th>\n",
       "      <th>else</th>\n",
       "      <th>col</th>\n",
       "      <th>pos</th>\n",
       "      <th>nest</th>\n",
       "      <th>bias</th>\n",
       "    </tr>\n",
       "  </thead>\n",
       "  <tbody>\n",
       "    <tr>\n",
       "      <th>0</th>\n",
       "      <td>0.00</td>\n",
       "      <td>0.00</td>\n",
       "      <td>0.23</td>\n",
       "      <td>0.27</td>\n",
       "      <td>0.86</td>\n",
       "      <td>0.28</td>\n",
       "      <td>0.00</td>\n",
       "      <td>0.00</td>\n",
       "      <td>3.07</td>\n",
       "      <td>0.00</td>\n",
       "      <td>2.04</td>\n",
       "      <td>4.54</td>\n",
       "      <td>1.53</td>\n",
       "      <td>0.00</td>\n",
       "      <td>0.20</td>\n",
       "      <td>1</td>\n",
       "    </tr>\n",
       "    <tr>\n",
       "      <th>1</th>\n",
       "      <td>0.50</td>\n",
       "      <td>0.00</td>\n",
       "      <td>0.15</td>\n",
       "      <td>0.00</td>\n",
       "      <td>0.54</td>\n",
       "      <td>0.28</td>\n",
       "      <td>0.00</td>\n",
       "      <td>0.00</td>\n",
       "      <td>0.00</td>\n",
       "      <td>2.04</td>\n",
       "      <td>2.04</td>\n",
       "      <td>0.00</td>\n",
       "      <td>2.42</td>\n",
       "      <td>0.00</td>\n",
       "      <td>0.16</td>\n",
       "      <td>1</td>\n",
       "    </tr>\n",
       "    <tr>\n",
       "      <th>2</th>\n",
       "      <td>0.33</td>\n",
       "      <td>0.65</td>\n",
       "      <td>0.00</td>\n",
       "      <td>0.00</td>\n",
       "      <td>0.00</td>\n",
       "      <td>0.00</td>\n",
       "      <td>0.00</td>\n",
       "      <td>0.00</td>\n",
       "      <td>0.00</td>\n",
       "      <td>0.00</td>\n",
       "      <td>0.00</td>\n",
       "      <td>0.00</td>\n",
       "      <td>0.00</td>\n",
       "      <td>0.00</td>\n",
       "      <td>0.00</td>\n",
       "      <td>1</td>\n",
       "    </tr>\n",
       "    <tr>\n",
       "      <th>3</th>\n",
       "      <td>0.55</td>\n",
       "      <td>0.00</td>\n",
       "      <td>0.00</td>\n",
       "      <td>0.00</td>\n",
       "      <td>0.00</td>\n",
       "      <td>0.28</td>\n",
       "      <td>0.00</td>\n",
       "      <td>0.00</td>\n",
       "      <td>0.00</td>\n",
       "      <td>2.04</td>\n",
       "      <td>0.00</td>\n",
       "      <td>0.00</td>\n",
       "      <td>1.53</td>\n",
       "      <td>0.00</td>\n",
       "      <td>0.10</td>\n",
       "      <td>1</td>\n",
       "    </tr>\n",
       "    <tr>\n",
       "      <th>4</th>\n",
       "      <td>0.48</td>\n",
       "      <td>0.46</td>\n",
       "      <td>0.12</td>\n",
       "      <td>0.00</td>\n",
       "      <td>0.00</td>\n",
       "      <td>0.00</td>\n",
       "      <td>0.00</td>\n",
       "      <td>1.32</td>\n",
       "      <td>0.00</td>\n",
       "      <td>0.00</td>\n",
       "      <td>0.00</td>\n",
       "      <td>0.00</td>\n",
       "      <td>0.00</td>\n",
       "      <td>0.00</td>\n",
       "      <td>0.00</td>\n",
       "      <td>1</td>\n",
       "    </tr>\n",
       "  </tbody>\n",
       "</table>\n",
       "</div>"
      ],
      "text/plain": [
       "     A    M    D    W    Y  limit  energy  shoot  repeat  while   if  else  \\\n",
       "0 0.00 0.00 0.23 0.27 0.86   0.28    0.00   0.00    3.07   0.00 2.04  4.54   \n",
       "1 0.50 0.00 0.15 0.00 0.54   0.28    0.00   0.00    0.00   2.04 2.04  0.00   \n",
       "2 0.33 0.65 0.00 0.00 0.00   0.00    0.00   0.00    0.00   0.00 0.00  0.00   \n",
       "3 0.55 0.00 0.00 0.00 0.00   0.28    0.00   0.00    0.00   2.04 0.00  0.00   \n",
       "4 0.48 0.46 0.12 0.00 0.00   0.00    0.00   1.32    0.00   0.00 0.00  0.00   \n",
       "\n",
       "   col  pos  nest  bias  \n",
       "0 1.53 0.00  0.20     1  \n",
       "1 2.42 0.00  0.16     1  \n",
       "2 0.00 0.00  0.00     1  \n",
       "3 1.53 0.00  0.10     1  \n",
       "4 0.00 0.00  0.00     1  "
      ]
     },
     "execution_count": 7,
     "metadata": {},
     "output_type": "execute_result"
    }
   ],
   "source": [
    "def get_feature_df(which_features='all', transform=None, bias=True):\n",
    "    \"\"\"Create a DataFrame with selected and transformed featrues.\n",
    "    \n",
    "    Args:\n",
    "        which_features: {'statement', 'solution', 'all'}\n",
    "        transform: {'bin', 'log', 'max', 'zscore', 'idf', 'pref', 'regr'}\n",
    "           - Can be combined, e.g. 'log+idf'.\n",
    "           - Note that 'none', 'bin', 'log', 'max', 'zscore'\n",
    "             and their combination are variants of term-frequency;\n",
    "             see https://en.wikipedia.org/wiki/Tf%E2%80%93idf\n",
    "             for descriptions.\n",
    "           - 'idf', 'pref', 'regr' normalize for feature importance\n",
    "           - Idf is the \"common-one\": log(N/n), where N\n",
    "             is the number of all tasks, n is the number of\n",
    "             tasks containing the feature.\n",
    "           - 'pref': increase weight for solution features\n",
    "    \"\"\"\n",
    "    # select features\n",
    "    feature_names = []\n",
    "    if which_features in {'statement', 'all'}:\n",
    "        feature_names += STATEMENT_FEATURES\n",
    "    if which_features in {'solution', 'all'}:\n",
    "        feature_names += SOLUTION_FEATURES        \n",
    "    features = RAW_FEATURES[feature_names].copy()    \n",
    "    # apply transformations\n",
    "    which_transforms = transform.split('+') if transform else []\n",
    "    if 'log' in which_transforms:\n",
    "        features = features.apply(lambda s: np.log(s + 1))\n",
    "    if 'bin' in which_transforms:\n",
    "        features = features.apply(lambda s: 0 + (s > 0))\n",
    "    if 'zscore' in which_transforms:\n",
    "        features = features.apply(lambda s: (s - s.mean())/s.std(ddof=0))\n",
    "    if 'max' in which_transforms:\n",
    "        features = features.apply(lambda s: s / s.max())\n",
    "    if 'idf' in which_transforms:\n",
    "        idf = lambda f: (-1) * np.log((f > 0).mean())\n",
    "        features = features.apply(lambda f: f * idf(f))\n",
    "    if 'pref' in which_transforms:\n",
    "        assert which_features in {'solution', 'all'}\n",
    "        solution_preference = 5\n",
    "        for f in ['repeat', 'while', 'if', 'else', 'col', 'pos']:\n",
    "            features[f] *= solution_preference \n",
    "    # add bias feature (if a task has all features 0, it has std=0 and correlation is undefined)\n",
    "    features['bias'] = 1\n",
    "    return features\n",
    "\n",
    "FEATURES = get_feature_df(transform='log+max+idf+pref')\n",
    "FEATURES.head()"
   ]
  },
  {
   "cell_type": "markdown",
   "metadata": {},
   "source": [
    "## Q-matrix"
   ]
  },
  {
   "cell_type": "code",
   "execution_count": 58,
   "metadata": {
    "collapsed": true
   },
   "outputs": [],
   "source": [
    "task_names = [\n",
    "    'three-steps-forward', 'turning-right',\n",
    "    'ladder', 'stairs',\n",
    "    'zig-zag', 'stop-on-red',\n",
    "    'on-yellow-to-left', 'follow-colors']\n",
    "concepts = [\n",
    "    'commands', 'repeat', 'while', 'if']"
   ]
  },
  {
   "cell_type": "code",
   "execution_count": 62,
   "metadata": {
    "scrolled": false
   },
   "outputs": [
    {
     "data": {
      "image/png": "[encoded data removed]",
      "text/plain": [
       "<matplotlib.figure.Figure at 0x7f3a52c7f908>"
      ]
     },
     "metadata": {},
     "output_type": "display_data"
    }
   ],
   "source": [
    "features = FEATURES.set_index(tasks.name)\n",
    "features = features.assign(commands=1.0)\n",
    "qmatrix = features.loc[task_names, concepts]\n",
    "qmatrix_binary = (qmatrix > 0.1).astype(int)\n",
    "ax = sns.heatmap(\n",
    "    qmatrix_binary,\n",
    "    vmin=-0.1, vmax=1.2,\n",
    "    cbar=False,\n",
    "    square=True,\n",
    "    linewidths=0.5,\n",
    "    linecolor='black',\n",
    "    cmap='Greys')\n",
    "ax.set_xlabel('')\n",
    "ax.set_ylabel('')\n",
    "ax.xaxis.tick_top()\n",
    "plt.xticks(rotation=90)\n",
    "ax.figure.savefig('../img/qmatrix-binary.pdf', bbox_inches='tight')"
   ]
  },
  {
   "cell_type": "code",
   "execution_count": 64,
   "metadata": {},
   "outputs": [
    {
     "data": {
      "image/png": "[encoded data removed]",
      "text/plain": [
       "<matplotlib.figure.Figure at 0x7f3a5097ef60>"
      ]
     },
     "metadata": {},
     "output_type": "display_data"
    }
   ],
   "source": [
    "qmatrix_continous = qmatrix / 5\n",
    "ax = sns.heatmap(\n",
    "    qmatrix_continous,\n",
    "    vmin=-0.05, vmax=1,\n",
    "    cbar=False,\n",
    "    square=True,\n",
    "    linewidths=0.5,\n",
    "    linecolor='black',\n",
    "    cmap='Greys')\n",
    "ax.set_xlabel('')\n",
    "ax.set_ylabel('')\n",
    "ax.xaxis.tick_top()\n",
    "plt.xticks(rotation=90)\n",
    "ax.figure.savefig('../img/qmatrix-continuous.pdf', bbox_inches='tight')"
   ]
  },
  {
   "cell_type": "code",
   "execution_count": null,
   "metadata": {
    "collapsed": true
   },
   "outputs": [],
   "source": []
  },
  {
   "cell_type": "code",
   "execution_count": null,
   "metadata": {
    "collapsed": true
   },
   "outputs": [],
   "source": []
  },
  {
   "cell_type": "markdown",
   "metadata": {
    "collapsed": true
   },
   "source": [
    "## Similarity matrix"
   ]
  },
  {
   "cell_type": "code",
   "execution_count": 93,
   "metadata": {
    "scrolled": false
   },
   "outputs": [
    {
     "data": {
      "image/png": "[encoded data removed]",
      "text/plain": [
       "<matplotlib.figure.Figure at 0x7fc6eafc77b8>"
      ]
     },
     "metadata": {},
     "output_type": "display_data"
    }
   ],
   "source": [
    "def compute_similarities(feature_df, metric='correlation'):\n",
    "    \"\"\"Compute square matrix of distances between columns in feature_df\n",
    "        (0 = most similar)\n",
    "    \"\"\"\n",
    "    distances = pdist(feature_df.values, metric=metric)\n",
    "    dist_matrix = squareform(distances)\n",
    "    # normalize it from 0->2 to 1->0\n",
    "    dist_matrix = 1 - 0.5 * dist_matrix\n",
    "    dist_df = pd.DataFrame(\n",
    "        dist_matrix,\n",
    "        index=tasks.name,\n",
    "        columns=tasks.name)\n",
    "    return dist_df\n",
    "\n",
    "similarities = compute_similarities(FEATURES)\n",
    "similarities = similarities.loc[task_names, task_names]\n",
    "plot = sns.clustermap(\n",
    "    similarities,\n",
    "    #annot=True,\n",
    "    vmin=0, vmax=1,\n",
    "    cbar_kws={'ticks':[0,0.5,1]},\n",
    "    cmap=sns.cubehelix_palette(as_cmap=True), # 'Greys'\n",
    ")\n",
    "plot.ax_heatmap.set_xlabel('')\n",
    "plot.ax_heatmap.set_ylabel('')\n",
    "plot.savefig('../img/similarities-tasks.pdf', bbox_inches='tight')"
   ]
  },
  {
   "cell_type": "markdown",
   "metadata": {},
   "source": [
    "## Similarity graph\n",
    "\n",
    "= discretiazation of similarity matrix (leave only the most important edges)"
   ]
  },
  {
   "cell_type": "code",
   "execution_count": 114,
   "metadata": {},
   "outputs": [
    {
     "data": {
      "image/png": "[encoded data removed]",
      "text/plain": [
       "<matplotlib.figure.Figure at 0x7fc6eb342048>"
      ]
     },
     "metadata": {},
     "output_type": "display_data"
    }
   ],
   "source": [
    "g = nx.Graph()\n",
    "g.add_nodes_from(task_names)\n",
    "for t1, t2 in combinations(task_names, r=2):\n",
    "    w = similarities.loc[t1, t2]\n",
    "    if w > 0.55:\n",
    "        g.add_edge(t1, t2)\n",
    "nx.draw(g, with_labels=True, node_size=3000, node_color='gray')\n",
    "plt.savefig('../img/similarities-graph.pdf', bbox_inches='tight')"
   ]
  },
  {
   "cell_type": "code",
   "execution_count": null,
   "metadata": {
    "collapsed": true
   },
   "outputs": [],
   "source": []
  },
  {
   "cell_type": "code",
   "execution_count": null,
   "metadata": {
    "collapsed": true
   },
   "outputs": [],
   "source": []
  },
  {
   "cell_type": "code",
   "execution_count": null,
   "metadata": {
    "collapsed": true
   },
   "outputs": [],
   "source": []
  },
  {
   "cell_type": "code",
   "execution_count": null,
   "metadata": {
    "collapsed": true
   },
   "outputs": [],
   "source": []
  },
  {
   "cell_type": "code",
   "execution_count": null,
   "metadata": {
    "collapsed": true
   },
   "outputs": [],
   "source": []
  },
  {
   "cell_type": "markdown",
   "metadata": {
    "collapsed": true
   },
   "source": [
    "## Correlation between concepts"
   ]
  },
  {
   "cell_type": "markdown",
   "metadata": {},
   "source": [
    "The following measures how much the concepts occur together (e.g. if and else occur together a lot), but depending on the usage, we probably want a different notion of similarity, e.g. how much similar are distributions of solving times for tasks containing these concepts."
   ]
  },
  {
   "cell_type": "code",
   "execution_count": 82,
   "metadata": {},
   "outputs": [
    {
     "data": {
      "image/png": "[encoded data removed]",
      "text/plain": [
       "<matplotlib.figure.Figure at 0x7fc6eb7e7208>"
      ]
     },
     "metadata": {},
     "output_type": "display_data"
    }
   ],
   "source": [
    "similarities = FEATURES.corr()\n",
    "concepts = [\n",
    "    'repeat', 'while', 'if', 'else']\n",
    "similarities = similarities.loc[concepts, concepts]\n",
    "plot = sns.clustermap(\n",
    "    similarities,\n",
    "    #annot=True,\n",
    "    vmin=-1, vmax=1,\n",
    "    cbar_kws={'ticks':[-1,0,1]},\n",
    "    cmap='RdBu_r'\n",
    ")\n",
    "plot.ax_heatmap.set_xlabel('')\n",
    "plot.ax_heatmap.set_ylabel('')\n",
    "plot.savefig('../img/similarities-concepts.pdf', bbox_inches='tight')"
   ]
  },
  {
   "cell_type": "markdown",
   "metadata": {},
   "source": [
    "## Similarities between concepts\n",
    "\n",
    "TODO"
   ]
  },
  {
   "cell_type": "code",
   "execution_count": null,
   "metadata": {
    "collapsed": true
   },
   "outputs": [],
   "source": []
  },
  {
   "cell_type": "code",
   "execution_count": null,
   "metadata": {
    "collapsed": true
   },
   "outputs": [],
   "source": []
  },
  {
   "cell_type": "code",
   "execution_count": null,
   "metadata": {
    "collapsed": true
   },
   "outputs": [],
   "source": []
  },
  {
   "cell_type": "code",
   "execution_count": null,
   "metadata": {
    "collapsed": true
   },
   "outputs": [],
   "source": []
  },
  {
   "cell_type": "code",
   "execution_count": null,
   "metadata": {
    "collapsed": true
   },
   "outputs": [],
   "source": []
  }
 ],
 "metadata": {
  "kernelspec": {
   "display_name": "Python 3",
   "language": "python",
   "name": "python3"
  },
  "language_info": {
   "codemirror_mode": {
    "name": "ipython",
    "version": 3
   },
   "file_extension": ".py",
   "mimetype": "text/x-python",
   "name": "python",
   "nbconvert_exporter": "python",
   "pygments_lexer": "ipython3",
   "version": "3.6.3"
  }
 },
 "nbformat": 4,
 "nbformat_minor": 2
}
