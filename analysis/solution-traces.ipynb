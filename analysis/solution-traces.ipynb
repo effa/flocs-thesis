{
 "cells": [
  {
   "cell_type": "markdown",
   "metadata": {},
   "source": [
    "# Solution Traces\n",
    "\n",
    "Goal: For given task, visualize common traces (leading / not leading to the correct solution). "
   ]
  },
  {
   "cell_type": "code",
   "execution_count": 11,
   "metadata": {
    "collapsed": true
   },
   "outputs": [],
   "source": [
    "# Settings and imports.\n",
    "%matplotlib inline\n",
    "from collections import OrderedDict\n",
    "import json\n",
    "import numpy as np\n",
    "import matplotlib.pyplot as plt\n",
    "import pandas as pd\n",
    "from pandas.plotting import parallel_coordinates\n",
    "import seaborn as sns\n",
    "import data\n",
    "\n",
    "sns.set()\n",
    "pd.options.display.float_format = '{:.2f}'.format"
   ]
  },
  {
   "cell_type": "markdown",
   "metadata": {},
   "source": [
    "# Preparing Data"
   ]
  },
  {
   "cell_type": "code",
   "execution_count": 5,
   "metadata": {
    "scrolled": true
   },
   "outputs": [],
   "source": [
    "ts = data.load('robomission-2018-03-10/task_sessions.csv')\n",
    "# Only consider sessions with an interaction.\n",
    "ts = ts[ts.time_spent > 0]\n",
    "tasks = data.load('robomission-2018-03-10/tasks.csv')\n",
    "snapshots = data.load('robomission-2018-03-10/program_snapshots.csv')"
   ]
  },
  {
   "cell_type": "markdown",
   "metadata": {
    "collapsed": true
   },
   "source": [
    "# Program Simulation"
   ]
  },
  {
   "cell_type": "code",
   "execution_count": 10,
   "metadata": {},
   "outputs": [
    {
     "data": {
      "text/plain": [
       "'{\"length\": 3, \"fields\": [[[\"b\", []], [\"b\", []], [\"b\", []], [\"b\", []], [\"b\", []]], [[\"k\", [\"A\"]], [\"k\", []], [\"k\", [\"A\"]], [\"k\", []], [\"k\", [\"A\"]]], [[\"k\", []], [\"k\", [\"A\"]], [\"k\", []], [\"k\", [\"A\"]], [\"k\", []]], [[\"k\", [\"A\"]], [\"k\", []], [\"k\", [\"A\"]], [\"k\", []], [\"k\", [\"A\"]]], [[\"k\", []], [\"k\", [\"A\"]], [\"k\", []], [\"k\", [\"A\"]], [\"k\", []]], [[\"k\", [\"A\"]], [\"k\", []], [\"k\", [\"A\"]], [\"k\", []], [\"k\", [\"A\"]]], [[\"k\", []], [\"k\", [\"A\"]], [\"k\", []], [\"k\", [\"A\"]], [\"k\", []]], [[\"k\", [\"A\"]], [\"k\", []], [\"k\", [\"A\"]], [\"k\", []], [\"k\", [\"A\"]]], [[\"k\", []], [\"k\", []], [\"k\", [\"S\"]], [\"k\", []], [\"k\", []]]]}'"
      ]
     },
     "execution_count": 10,
     "metadata": {},
     "output_type": "execute_result"
    }
   ],
   "source": [
    "tasks.loc[3].setting"
   ]
  },
  {
   "cell_type": "code",
   "execution_count": 106,
   "metadata": {},
   "outputs": [],
   "source": [
    "MAX_STEPS = 100\n",
    "\n",
    "def find_spaceship(world):\n",
    "    for i, row in enumerate(world):\n",
    "        for j, field in enumerate(row):\n",
    "            _color, objects = field\n",
    "            if 'S' in objects:\n",
    "                return (i, j)\n",
    "            \n",
    "def indent(n):\n",
    "    return ' ' * 4 * n\n",
    "\n",
    "def to_python(minirobocode):\n",
    "    lines = []\n",
    "    nest = 0\n",
    "    test = False\n",
    "    for token in minirobocode:\n",
    "        if not test:\n",
    "            lines.append(indent(nest) + 'self.check_n_steps()')\n",
    "        if token == '{':\n",
    "            nest += 1\n",
    "            test = False\n",
    "        elif token == '}':\n",
    "            nest -= 1\n",
    "            continue\n",
    "        elif token == 'W':\n",
    "            test = True\n",
    "            lines.append(indent(nest) + 'while')\n",
    "        elif token == 'I':\n",
    "            test = True\n",
    "            lines.append(indent(nest) + 'if')\n",
    "        elif token == 'R':\n",
    "            lines.append(indent(nest) + 'repeat')\n",
    "        elif token == 'f':\n",
    "            lines.append(indent(nest) + 'self.fly()')\n",
    "        elif token == 'l':\n",
    "            lines.append(indent(nest) + 'self.left()')\n",
    "        elif token == 'r':\n",
    "            lines.append(indent(nest) + 'self.right()')\n",
    "        elif token == 's':\n",
    "            lines.append(indent(nest) + 'self.shoot()')\n",
    "        elif token == '/':\n",
    "            lines.append(indent(nest-1) + 'else:')\n",
    "        # TODO: fix to make it work with position testing\n",
    "        elif test and token == '!':\n",
    "            lines[-1] += ' not'\n",
    "        elif test and token in 'yrgbk':\n",
    "            lines[-1] += ' self.color() == \"{c}\":'.format(c=token)\n",
    "        elif token in '0123456789':\n",
    "            lines[-1] += ' ' + token + ':'\n",
    "        # TODO: position testing    \n",
    "    program = '\\n'.join(lines)\n",
    "    return program\n",
    "\n",
    "def get_world_size(world):\n",
    "    return len(world), len(world[0])\n",
    "\n",
    "class Simulator:\n",
    "    MAX_STEPS = 100\n",
    "    def __init__(self, world):\n",
    "        self.colors = {\n",
    "            (i, j): field[0]\n",
    "            for i, row in enumerate(world)\n",
    "            for j, field in enumerate(row)}\n",
    "        self.objects = {\n",
    "            (i, j): field[1]\n",
    "            for i, row in enumerate(world)\n",
    "            for j, field in enumerate(row)}\n",
    "        self.spaceship = find_spaceship(world)\n",
    "        self.fields = [self.spaceship]\n",
    "        self.n_step = 0\n",
    "        self.size = get_world_size(world)\n",
    "    \n",
    "    def simulate(self, program):\n",
    "        if not program or type(program) != str:\n",
    "            return\n",
    "        program = to_python(program)\n",
    "        #print('program', program)\n",
    "        try:\n",
    "            exec(program)\n",
    "        except StopIteration:\n",
    "            pass # Check for infinite loops.\n",
    "        except SyntaxError:\n",
    "            pass # Check for invalid programs.\n",
    "    \n",
    "    # TODO: check for asteroids, wormholes and being outside\n",
    "    def fly(self):\n",
    "        self.spaceship = (self.spaceship[0]-1, self.spaceship[1])\n",
    "        if not self.is_dead():\n",
    "            self.fields.append(self.spaceship)\n",
    "        \n",
    "    def left(self):\n",
    "        self.spaceship = (self.spaceship[0]-1, self.spaceship[1]-1)\n",
    "        if not self.is_dead():\n",
    "            self.fields.append(self.spaceship)\n",
    "        \n",
    "    def right(self):\n",
    "        self.spaceship = (self.spaceship[0]-1, self.spaceship[1]+1)\n",
    "        if not self.is_dead():\n",
    "            self.fields.append(self.spaceship)\n",
    "        \n",
    "    def shoot(self):\n",
    "        # TODO: shoot\n",
    "        self.spaceship = (self.spaceship[0]-1, self.spaceship[1])\n",
    "        if not self.is_dead():\n",
    "            self.fields.append(self.spaceship)\n",
    "        \n",
    "    def color(self):\n",
    "        return self.colors[self.spaceship]\n",
    "\n",
    "    def is_dead(self):\n",
    "        # TODO: check for asteroids, meteoroids\n",
    "        if not(0 <= self.spaceship[0] < self.size[0]):\n",
    "            return True\n",
    "        if not(0 <= self.spaceship[1] < self.size[1]):\n",
    "            return True\n",
    "        return False\n",
    "    \n",
    "    def check_n_steps(self):\n",
    "        # TODO: Rename to reflect that it also looks for failure.\n",
    "        self.n_step += 1\n",
    "        if self.n_step >= self.MAX_STEPS:\n",
    "            raise StopIteration\n",
    "        if self.is_dead():\n",
    "            raise StopIteration\n",
    "\n",
    "def simulate(world, program):        \n",
    "    sim = Simulator(world)\n",
    "    sim.simulate(program) \n",
    "    return sim.fields\n",
    "\n",
    "world = json.loads(tasks.loc[3].setting)['fields']\n",
    "#simulate(world, program='lrlr')"
   ]
  },
  {
   "cell_type": "code",
   "execution_count": 108,
   "metadata": {},
   "outputs": [
    {
     "data": {
      "image/png": "[encoded data removed]",
      "text/plain": [
       "<matplotlib.figure.Figure at 0x7fe1900d8c18>"
      ]
     },
     "metadata": {},
     "output_type": "display_data"
    }
   ],
   "source": [
    "def plot_heatmap(task_name='zig-zag', solved=True):\n",
    "    task = tasks[tasks.name == task_name]\n",
    "    world = json.loads(tasks.loc[3].setting)['fields']\n",
    "    task_id = task.index[0]\n",
    "    ts_rel = ts[ts.task == task_id]\n",
    "    ts_rel = ts_rel[ts_rel.solved == solved]\n",
    "    snapshots_rel = snapshots[snapshots.task_session.isin(ts_rel.index)]\n",
    "    size = get_world_size(world)\n",
    "    visited_matrix = np.zeros(size)\n",
    "    for program in snapshots_rel.program:  #['lrlr', 'W!b{lr}']: \n",
    "        fields = simulate(world, program)\n",
    "        for row, col in fields:\n",
    "            visited_matrix[row, col] += 1\n",
    "    # TODO: parsing all programs, colormap, keep aspect ratio\n",
    "    #return visited_matrix\n",
    "    sns.heatmap(visited_matrix / visited_matrix.max())\n",
    "\n",
    "plot_heatmap()"
   ]
  },
  {
   "cell_type": "code",
   "execution_count": 109,
   "metadata": {},
   "outputs": [
    {
     "data": {
      "image/png": "[encoded data removed]",
      "text/plain": [
       "<matplotlib.figure.Figure at 0x7fe18fec2da0>"
      ]
     },
     "metadata": {},
     "output_type": "display_data"
    }
   ],
   "source": [
    "plot_heatmap(solved=False)"
   ]
  },
  {
   "cell_type": "code",
   "execution_count": null,
   "metadata": {
    "collapsed": true
   },
   "outputs": [],
   "source": []
  },
  {
   "cell_type": "code",
   "execution_count": null,
   "metadata": {
    "collapsed": true
   },
   "outputs": [],
   "source": []
  },
  {
   "cell_type": "code",
   "execution_count": null,
   "metadata": {
    "collapsed": true
   },
   "outputs": [],
   "source": []
  },
  {
   "cell_type": "code",
   "execution_count": null,
   "metadata": {
    "collapsed": true
   },
   "outputs": [],
   "source": []
  }
 ],
 "metadata": {
  "kernelspec": {
   "display_name": "Python 3",
   "language": "python",
   "name": "python3"
  },
  "language_info": {
   "codemirror_mode": {
    "name": "ipython",
    "version": 3
   },
   "file_extension": ".py",
   "mimetype": "text/x-python",
   "name": "python",
   "nbconvert_exporter": "python",
   "pygments_lexer": "ipython3",
   "version": "3.6.3"
  }
 },
 "nbformat": 4,
 "nbformat_minor": 2
}
