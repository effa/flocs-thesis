{
 "cells": [
  {
   "cell_type": "markdown",
   "metadata": {},
   "source": [
    "# Attrition Bias"
   ]
  },
  {
   "cell_type": "code",
   "execution_count": 1,
   "metadata": {},
   "outputs": [],
   "source": [
    "# Settings and imports.\n",
    "%matplotlib inline\n",
    "from collections import OrderedDict\n",
    "import numpy as np\n",
    "import matplotlib.pyplot as plt\n",
    "import pandas as pd\n",
    "from pandas.plotting import parallel_coordinates\n",
    "import seaborn as sns\n",
    "import data\n",
    "\n",
    "sns.set()\n",
    "sns.set_context('poster')\n",
    "#sns.set_style('whitegrid')\n",
    "pd.options.display.float_format = '{:.2f}'.format"
   ]
  },
  {
   "cell_type": "markdown",
   "metadata": {},
   "source": [
    "## Prepare Data"
   ]
  },
  {
   "cell_type": "code",
   "execution_count": 2,
   "metadata": {},
   "outputs": [
    {
     "data": {
      "text/html": [
       "<div>\n",
       "<style scoped>\n",
       "    .dataframe tbody tr th:only-of-type {\n",
       "        vertical-align: middle;\n",
       "    }\n",
       "\n",
       "    .dataframe tbody tr th {\n",
       "        vertical-align: top;\n",
       "    }\n",
       "\n",
       "    .dataframe thead th {\n",
       "        text-align: right;\n",
       "    }\n",
       "</style>\n",
       "<table border=\"1\" class=\"dataframe\">\n",
       "  <thead>\n",
       "    <tr style=\"text-align: right;\">\n",
       "      <th></th>\n",
       "      <th>student</th>\n",
       "      <th>task</th>\n",
       "      <th>solved</th>\n",
       "      <th>start</th>\n",
       "      <th>end</th>\n",
       "      <th>time_spent</th>\n",
       "      <th>date</th>\n",
       "      <th>order</th>\n",
       "      <th>total_time</th>\n",
       "      <th>level</th>\n",
       "    </tr>\n",
       "    <tr>\n",
       "      <th>id</th>\n",
       "      <th></th>\n",
       "      <th></th>\n",
       "      <th></th>\n",
       "      <th></th>\n",
       "      <th></th>\n",
       "      <th></th>\n",
       "      <th></th>\n",
       "      <th></th>\n",
       "      <th></th>\n",
       "      <th></th>\n",
       "    </tr>\n",
       "  </thead>\n",
       "  <tbody>\n",
       "    <tr>\n",
       "      <th>39</th>\n",
       "      <td>917</td>\n",
       "      <td>26</td>\n",
       "      <td>False</td>\n",
       "      <td>2017-11-13T10:58:19.666306Z</td>\n",
       "      <td>2017-11-13T10:59:21.969801Z</td>\n",
       "      <td>62</td>\n",
       "      <td>2017-11-13</td>\n",
       "      <td>1</td>\n",
       "      <td>62</td>\n",
       "      <td>1</td>\n",
       "    </tr>\n",
       "    <tr>\n",
       "      <th>28</th>\n",
       "      <td>584</td>\n",
       "      <td>41</td>\n",
       "      <td>True</td>\n",
       "      <td>2017-11-12T08:57:39.741460Z</td>\n",
       "      <td>2017-11-12T08:58:43.087657Z</td>\n",
       "      <td>63</td>\n",
       "      <td>2017-11-12</td>\n",
       "      <td>1</td>\n",
       "      <td>63</td>\n",
       "      <td>4</td>\n",
       "    </tr>\n",
       "    <tr>\n",
       "      <th>13</th>\n",
       "      <td>29</td>\n",
       "      <td>8</td>\n",
       "      <td>True</td>\n",
       "      <td>2017-11-10T12:24:07.602156Z</td>\n",
       "      <td>2017-11-10T12:24:24.986604Z</td>\n",
       "      <td>17</td>\n",
       "      <td>2017-11-10</td>\n",
       "      <td>1</td>\n",
       "      <td>17</td>\n",
       "      <td>2</td>\n",
       "    </tr>\n",
       "    <tr>\n",
       "      <th>1</th>\n",
       "      <td>5</td>\n",
       "      <td>25</td>\n",
       "      <td>True</td>\n",
       "      <td>2017-11-10T10:25:08.451949Z</td>\n",
       "      <td>2017-11-10T10:25:22.612931Z</td>\n",
       "      <td>14</td>\n",
       "      <td>2017-11-10</td>\n",
       "      <td>1</td>\n",
       "      <td>14</td>\n",
       "      <td>1</td>\n",
       "    </tr>\n",
       "    <tr>\n",
       "      <th>2</th>\n",
       "      <td>29</td>\n",
       "      <td>25</td>\n",
       "      <td>True</td>\n",
       "      <td>2017-11-10T12:19:38.296521Z</td>\n",
       "      <td>2017-11-10T12:19:50.945672Z</td>\n",
       "      <td>12</td>\n",
       "      <td>2017-11-10</td>\n",
       "      <td>2</td>\n",
       "      <td>29</td>\n",
       "      <td>1</td>\n",
       "    </tr>\n",
       "  </tbody>\n",
       "</table>\n",
       "</div>"
      ],
      "text/plain": [
       "    student  task  solved                        start  \\\n",
       "id                                                       \n",
       "39      917    26   False  2017-11-13T10:58:19.666306Z   \n",
       "28      584    41    True  2017-11-12T08:57:39.741460Z   \n",
       "13       29     8    True  2017-11-10T12:24:07.602156Z   \n",
       "1         5    25    True  2017-11-10T10:25:08.451949Z   \n",
       "2        29    25    True  2017-11-10T12:19:38.296521Z   \n",
       "\n",
       "                            end  time_spent        date  order  total_time  \\\n",
       "id                                                                           \n",
       "39  2017-11-13T10:59:21.969801Z          62  2017-11-13      1          62   \n",
       "28  2017-11-12T08:58:43.087657Z          63  2017-11-12      1          63   \n",
       "13  2017-11-10T12:24:24.986604Z          17  2017-11-10      1          17   \n",
       "1   2017-11-10T10:25:22.612931Z          14  2017-11-10      1          14   \n",
       "2   2017-11-10T12:19:50.945672Z          12  2017-11-10      2          29   \n",
       "\n",
       "    level  \n",
       "id         \n",
       "39      1  \n",
       "28      4  \n",
       "13      2  \n",
       "1       1  \n",
       "2       1  "
      ]
     },
     "execution_count": 2,
     "metadata": {},
     "output_type": "execute_result"
    }
   ],
   "source": [
    "tasks = data.load('robomission-2018-03-10/tasks.csv')\n",
    "levels = data.load('robomission-2018-03-10/levels.csv')\n",
    "tasks = tasks.assign(level=tasks.level.apply(\n",
    "    lambda name: levels[levels.name==name].level.values[0]))\n",
    "\n",
    "ts = data.load('robomission-2018-03-10/task_sessions.csv')\n",
    "ts = ts[ts.time_spent > 0]\n",
    "ts = ts.assign(date=ts.end.str[:10])\n",
    "ts.time_spent = ts.time_spent.clip_upper(60 * 60)\n",
    "# Count the order of the task session per student:\n",
    "ts = ts.assign(order=ts.groupby('student').cumcount() + 1)\n",
    "# Add cumulative time for each student:\n",
    "ts = ts.assign(total_time=ts.groupby('student').time_spent.cumsum())\n",
    "# Add level info\n",
    "ts = ts.join(tasks.level, on='task')\n",
    "ts.head()"
   ]
  },
  {
   "cell_type": "markdown",
   "metadata": {},
   "source": [
    "## Median time"
   ]
  },
  {
   "cell_type": "code",
   "execution_count": 40,
   "metadata": {},
   "outputs": [
    {
     "name": "stdout",
     "output_type": "stream",
     "text": [
      "31\n"
     ]
    },
    {
     "data": {
      "text/plain": [
       "Text(0,0.5,'median time (sec)')"
      ]
     },
     "execution_count": 40,
     "metadata": {},
     "output_type": "execute_result"
    },
    {
     "data": {
      "image/png": "[encoded data removed]",
      "text/plain": [
       "<matplotlib.figure.Figure at 0x7f4fbeee7b38>"
      ]
     },
     "metadata": {},
     "output_type": "display_data"
    }
   ],
   "source": [
    "MIN_TASKS = 40\n",
    "longterm = ts.groupby('student').task.count() >= MIN_TASKS\n",
    "print(sum(longterm))\n",
    "longterm.name = 'longterm'\n",
    "ts.drop('longterm', axis=1, inplace=True, errors='ignore')\n",
    "ts = ts.join(longterm, on='student')\n",
    "\n",
    "gr = ts.query('order <= 40 and longterm').groupby('order')\n",
    "grt = gr.time_spent\n",
    "ax = grt.median()\\\n",
    "    .rolling(3, min_periods=1, win_type='triang', center=True).mean()\\\n",
    "    .plot()\n",
    "ax.set_xlim(1, 40)\n",
    "ax.set_ylim(0, 100)\n",
    "ax.set_xlabel('task order')\n",
    "ax.set_ylabel('median time (sec)')"
   ]
  },
  {
   "cell_type": "code",
   "execution_count": 16,
   "metadata": {},
   "outputs": [
    {
     "data": {
      "text/plain": [
       "Text(0,0.5,'median time (sec)')"
      ]
     },
     "execution_count": 16,
     "metadata": {},
     "output_type": "execute_result"
    },
    {
     "data": {
      "image/png": "[encoded data removed]",
      "text/plain": [
       "<matplotlib.figure.Figure at 0x7f4fc26b7358>"
      ]
     },
     "metadata": {},
     "output_type": "display_data"
    }
   ],
   "source": [
    "gr = ts[ts.order <= 40].groupby('order')\n",
    "grt = gr.time_spent\n",
    "ax = grt.median()\\\n",
    "    .rolling(3, min_periods=1, win_type='triang', center=True).mean()\\\n",
    "    .plot()\n",
    "ax.set_xlim(1, 40)\n",
    "ax.set_ylim(0, 100)\n",
    "ax.set_xlabel('task order')\n",
    "ax.set_ylabel('median time (sec)')"
   ]
  },
  {
   "cell_type": "code",
   "execution_count": 42,
   "metadata": {},
   "outputs": [
    {
     "data": {
      "text/plain": [
       "Text(0,0.5,'median time (sec)')"
      ]
     },
     "execution_count": 42,
     "metadata": {},
     "output_type": "execute_result"
    },
    {
     "data": {
      "image/png": "[encoded data removed]",
      "text/plain": [
       "<matplotlib.figure.Figure at 0x7f4fbf07a320>"
      ]
     },
     "metadata": {},
     "output_type": "display_data"
    }
   ],
   "source": [
    "# Explore the effect of unsolved sessions.\n",
    "gr = ts.query('order <= 40 and solved').groupby('order')\n",
    "grt = gr.time_spent\n",
    "ax = grt.median()\\\n",
    "    .rolling(3, min_periods=1, win_type='triang', center=True).mean()\\\n",
    "    .plot()\n",
    "ax.set_xlim(1, 40)\n",
    "ax.set_ylim(0, 100)\n",
    "ax.set_xlabel('task order')\n",
    "ax.set_ylabel('median time (sec)')"
   ]
  },
  {
   "cell_type": "code",
   "execution_count": null,
   "metadata": {},
   "outputs": [],
   "source": []
  },
  {
   "cell_type": "code",
   "execution_count": null,
   "metadata": {},
   "outputs": [],
   "source": []
  },
  {
   "cell_type": "code",
   "execution_count": null,
   "metadata": {},
   "outputs": [],
   "source": []
  },
  {
   "cell_type": "code",
   "execution_count": null,
   "metadata": {},
   "outputs": [],
   "source": []
  },
  {
   "cell_type": "code",
   "execution_count": null,
   "metadata": {},
   "outputs": [],
   "source": []
  },
  {
   "cell_type": "code",
   "execution_count": null,
   "metadata": {},
   "outputs": [],
   "source": []
  },
  {
   "cell_type": "code",
   "execution_count": null,
   "metadata": {},
   "outputs": [],
   "source": []
  },
  {
   "cell_type": "code",
   "execution_count": null,
   "metadata": {},
   "outputs": [],
   "source": []
  },
  {
   "cell_type": "code",
   "execution_count": null,
   "metadata": {},
   "outputs": [],
   "source": []
  },
  {
   "cell_type": "code",
   "execution_count": null,
   "metadata": {},
   "outputs": [],
   "source": []
  },
  {
   "cell_type": "code",
   "execution_count": null,
   "metadata": {},
   "outputs": [],
   "source": []
  },
  {
   "cell_type": "code",
   "execution_count": null,
   "metadata": {},
   "outputs": [],
   "source": []
  }
 ],
 "metadata": {
  "kernelspec": {
   "display_name": "Python 3",
   "language": "python",
   "name": "python3"
  },
  "language_info": {
   "codemirror_mode": {
    "name": "ipython",
    "version": 3
   },
   "file_extension": ".py",
   "mimetype": "text/x-python",
   "name": "python",
   "nbconvert_exporter": "python",
   "pygments_lexer": "ipython3",
   "version": "3.6.5"
  }
 },
 "nbformat": 4,
 "nbformat_minor": 2
}
