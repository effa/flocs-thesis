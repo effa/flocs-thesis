{
 "cells": [
  {
   "cell_type": "markdown",
   "metadata": {},
   "source": [
    "# Length Limit Analysis\n",
    "\n",
    "Question: How often students hit the length limit without having a working solution? Find the tasks where this situation happens most often and diagnose them."
   ]
  },
  {
   "cell_type": "code",
   "execution_count": 8,
   "metadata": {
    "collapsed": true
   },
   "outputs": [],
   "source": [
    "# Settings and imports.\n",
    "%matplotlib inline\n",
    "from collections import OrderedDict\n",
    "import json\n",
    "import numpy as np\n",
    "import matplotlib.pyplot as plt\n",
    "import pandas as pd\n",
    "from pandas.plotting import parallel_coordinates\n",
    "import seaborn as sns\n",
    "import data\n",
    "\n",
    "sns.set()\n",
    "pd.options.display.float_format = '{:.2f}'.format"
   ]
  },
  {
   "cell_type": "code",
   "execution_count": 54,
   "metadata": {
    "collapsed": true
   },
   "outputs": [],
   "source": [
    "tasks = data.load('robomission-2018-03-10/tasks.csv')\n",
    "snapshots = data.load('robomission-2018-03-10/program_snapshots.csv')\n",
    "task_sessions = data.load('robomission-2018-03-10/task_sessions.csv')\n",
    "\n",
    "# Only consider sessions with an interaction.\n",
    "task_sessions = task_sessions[task_sessions.time_spent > 0]"
   ]
  },
  {
   "cell_type": "code",
   "execution_count": 56,
   "metadata": {
    "collapsed": true
   },
   "outputs": [],
   "source": [
    "def extract_length(setting_string):\n",
    "    setting = json.loads(setting_string)\n",
    "    return setting.get('length', None)\n",
    "\n",
    "tasks['limit'] = tasks.setting.apply(extract_length)"
   ]
  },
  {
   "cell_type": "code",
   "execution_count": 57,
   "metadata": {
    "collapsed": true
   },
   "outputs": [],
   "source": [
    "def compute_length(program):\n",
    "    if not program or type(program) != str:\n",
    "        return 0\n",
    "    length = 0\n",
    "    test = False\n",
    "    for c in program:\n",
    "        length += int(not test and c in 'flrsWRI')\n",
    "        if c in 'WI':\n",
    "            test = True\n",
    "        elif c == '{':\n",
    "            test = False\n",
    "    return length\n",
    "        \n",
    "snapshots['length'] = snapshots.program.map(compute_length)"
   ]
  },
  {
   "cell_type": "code",
   "execution_count": 82,
   "metadata": {},
   "outputs": [
    {
     "data": {
      "text/html": [
       "<div>\n",
       "<style scoped>\n",
       "    .dataframe tbody tr th:only-of-type {\n",
       "        vertical-align: middle;\n",
       "    }\n",
       "\n",
       "    .dataframe tbody tr th {\n",
       "        vertical-align: top;\n",
       "    }\n",
       "\n",
       "    .dataframe thead th {\n",
       "        text-align: right;\n",
       "    }\n",
       "</style>\n",
       "<table border=\"1\" class=\"dataframe\">\n",
       "  <thead>\n",
       "    <tr style=\"text-align: right;\">\n",
       "      <th></th>\n",
       "      <th>task</th>\n",
       "      <th>solved</th>\n",
       "      <th>max_length</th>\n",
       "      <th>limit</th>\n",
       "      <th>reached_limit</th>\n",
       "      <th>failed_at_limit</th>\n",
       "    </tr>\n",
       "    <tr>\n",
       "      <th>id</th>\n",
       "      <th></th>\n",
       "      <th></th>\n",
       "      <th></th>\n",
       "      <th></th>\n",
       "      <th></th>\n",
       "      <th></th>\n",
       "    </tr>\n",
       "  </thead>\n",
       "  <tbody>\n",
       "    <tr>\n",
       "      <th>28</th>\n",
       "      <td>41</td>\n",
       "      <td>True</td>\n",
       "      <td>4</td>\n",
       "      <td>4.00</td>\n",
       "      <td>True</td>\n",
       "      <td>False</td>\n",
       "    </tr>\n",
       "    <tr>\n",
       "      <th>99</th>\n",
       "      <td>41</td>\n",
       "      <td>False</td>\n",
       "      <td>4</td>\n",
       "      <td>4.00</td>\n",
       "      <td>True</td>\n",
       "      <td>True</td>\n",
       "    </tr>\n",
       "    <tr>\n",
       "      <th>304</th>\n",
       "      <td>41</td>\n",
       "      <td>True</td>\n",
       "      <td>4</td>\n",
       "      <td>4.00</td>\n",
       "      <td>True</td>\n",
       "      <td>False</td>\n",
       "    </tr>\n",
       "    <tr>\n",
       "      <th>404</th>\n",
       "      <td>41</td>\n",
       "      <td>True</td>\n",
       "      <td>4</td>\n",
       "      <td>4.00</td>\n",
       "      <td>True</td>\n",
       "      <td>False</td>\n",
       "    </tr>\n",
       "    <tr>\n",
       "      <th>418</th>\n",
       "      <td>41</td>\n",
       "      <td>True</td>\n",
       "      <td>4</td>\n",
       "      <td>4.00</td>\n",
       "      <td>True</td>\n",
       "      <td>False</td>\n",
       "    </tr>\n",
       "  </tbody>\n",
       "</table>\n",
       "</div>"
      ],
      "text/plain": [
       "     task  solved  max_length  limit  reached_limit  failed_at_limit\n",
       "id                                                                  \n",
       "28     41    True           4   4.00           True            False\n",
       "99     41   False           4   4.00           True             True\n",
       "304    41    True           4   4.00           True            False\n",
       "404    41    True           4   4.00           True            False\n",
       "418    41    True           4   4.00           True            False"
      ]
     },
     "execution_count": 82,
     "metadata": {},
     "output_type": "execute_result"
    }
   ],
   "source": [
    "def get_task_sessions_with_failed_at_limit():\n",
    "    max_lengths = snapshots.groupby('task_session').length.max()\n",
    "    ts = task_sessions.assign(max_length=max_lengths)\n",
    "    ts = ts.fillna(0)\n",
    "    ts = ts.merge(tasks, left_on='task', right_index=True)\n",
    "    ts = ts[['task', 'solved', 'max_length', 'limit']]\n",
    "    ts = ts[~ts.limit.isna()]\n",
    "    ts['reached_limit'] = ts.max_length >= ts.limit\n",
    "    ts['failed_at_limit'] = ts.reached_limit & ~ts.solved\n",
    "    return ts\n",
    "\n",
    "ts = get_task_sessions_with_failed_at_limit()\n",
    "ts.head()"
   ]
  },
  {
   "cell_type": "markdown",
   "metadata": {},
   "source": [
    "Sort tasks based on the failed-at-limit rate:"
   ]
  },
  {
   "cell_type": "code",
   "execution_count": 86,
   "metadata": {},
   "outputs": [
    {
     "data": {
      "text/plain": [
       "task\n",
       "81   0.55\n",
       "77   0.55\n",
       "65   0.53\n",
       "15   0.50\n",
       "59   0.50\n",
       "82   0.48\n",
       "9    0.44\n",
       "35   0.44\n",
       "4    0.43\n",
       "62   0.42\n",
       "85   0.41\n",
       "74   0.40\n",
       "27   0.39\n",
       "33   0.38\n",
       "78   0.37\n",
       "40   0.35\n",
       "5    0.34\n",
       "60   0.34\n",
       "64   0.33\n",
       "16   0.33\n",
       "83   0.30\n",
       "28   0.30\n",
       "32   0.29\n",
       "48   0.26\n",
       "55   0.25\n",
       "43   0.25\n",
       "42   0.23\n",
       "63   0.21\n",
       "54   0.20\n",
       "46   0.20\n",
       "     ... \n",
       "37   0.16\n",
       "21   0.14\n",
       "38   0.14\n",
       "80   0.12\n",
       "24   0.12\n",
       "58   0.12\n",
       "68   0.11\n",
       "3    0.10\n",
       "34   0.10\n",
       "72   0.10\n",
       "7    0.10\n",
       "1    0.09\n",
       "57   0.09\n",
       "45   0.08\n",
       "73   0.08\n",
       "17   0.08\n",
       "41   0.08\n",
       "50   0.08\n",
       "29   0.08\n",
       "20   0.07\n",
       "13   0.07\n",
       "52   0.06\n",
       "76   0.05\n",
       "84   0.05\n",
       "11   0.05\n",
       "70   0.04\n",
       "53   0.02\n",
       "56   0.02\n",
       "30   0.00\n",
       "39   0.00\n",
       "Name: failed_at_limit, Length: 65, dtype: float64"
      ]
     },
     "execution_count": 86,
     "metadata": {},
     "output_type": "execute_result"
    }
   ],
   "source": [
    "ts_rate = ts.groupby('task').failed_at_limit.mean()\n",
    "ts_rate.sort_values(ascending=False)"
   ]
  },
  {
   "cell_type": "code",
   "execution_count": 88,
   "metadata": {},
   "outputs": [
    {
     "data": {
      "text/plain": [
       "name                                           yellow-squares\n",
       "level                                                      if\n",
       "setting     {\"length\": 4, \"fields\": [[[\"b\", []], [\"b\", []]...\n",
       "solution                                          W!b{fIy{s}}\n",
       "limit                                                    4.00\n",
       "Name: 78, dtype: object"
      ]
     },
     "execution_count": 88,
     "metadata": {},
     "output_type": "execute_result"
    }
   ],
   "source": [
    "tasks.iloc[81]"
   ]
  },
  {
   "cell_type": "code",
   "execution_count": 89,
   "metadata": {},
   "outputs": [
    {
     "data": {
      "text/plain": [
       "name                                                 letter-d\n",
       "level                                         final-challenge\n",
       "setting     {\"length\": 6, \"fields\": [[[\"b\", []], [\"b\", []]...\n",
       "solution                                W!b{fIx>3{Iy{r}/{l}}}\n",
       "limit                                                    6.00\n",
       "Name: 77, dtype: object"
      ]
     },
     "execution_count": 89,
     "metadata": {},
     "output_type": "execute_result"
    }
   ],
   "source": [
    "tasks.iloc[77]"
   ]
  },
  {
   "cell_type": "markdown",
   "metadata": {},
   "source": [
    "**Result:** Failing at the limit happens a lot. However, from this analysis we are not able to say if the failure happens because of the limit (we don't know if the student intended to add any more blocks)."
   ]
  }
 ],
 "metadata": {
  "kernelspec": {
   "display_name": "Python 3",
   "language": "python",
   "name": "python3"
  },
  "language_info": {
   "codemirror_mode": {
    "name": "ipython",
    "version": 3
   },
   "file_extension": ".py",
   "mimetype": "text/x-python",
   "name": "python",
   "nbconvert_exporter": "python",
   "pygments_lexer": "ipython3",
   "version": "3.6.3"
  }
 },
 "nbformat": 4,
 "nbformat_minor": 2
}
